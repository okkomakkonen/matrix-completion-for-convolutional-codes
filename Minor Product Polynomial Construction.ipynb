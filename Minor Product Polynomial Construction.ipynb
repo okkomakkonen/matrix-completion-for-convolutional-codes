{
 "cells": [
  {
   "cell_type": "markdown",
   "id": "b1f62fa4",
   "metadata": {},
   "source": [
    "# Minor Product Polynomial Construction\n",
    "\n",
    "This notebook has some useful functions for playing around with using ideas from matrix completion to construct MDP convolutional codes. The following cells contain some methods for creating the sliding truncated generator matrices and their associated _minor product polynomials_."
   ]
  },
  {
   "cell_type": "code",
   "execution_count": 1,
   "id": "c471f085",
   "metadata": {},
   "outputs": [],
   "source": [
    "from minor_product_polynomial import *"
   ]
  },
  {
   "cell_type": "markdown",
   "id": "ec655fbe",
   "metadata": {},
   "source": [
    "## Minor product polynomial\n",
    "\n",
    "The next example shows how to compute the minor product polynomial for a very simple case."
   ]
  },
  {
   "cell_type": "code",
   "execution_count": 2,
   "id": "efe9e4f7",
   "metadata": {},
   "outputs": [
    {
     "name": "stdout",
     "output_type": "stream",
     "text": [
      "-2*x00^2*x10 - 2*x00*x10^2 - x10^3\n"
     ]
    }
   ],
   "source": [
    "n, k = 3, 2\n",
    "K = GF(5)\n",
    "\n",
    "G0 = vandermonde_matrix(K, k, n)\n",
    "P = minor_product_polynomial(G0)\n",
    "\n",
    "print(P)"
   ]
  },
  {
   "cell_type": "markdown",
   "id": "941b9119",
   "metadata": {},
   "source": [
    "## Degree of minor product polynomial\n",
    "\n",
    "With the below cell we can verify that the degree of the minor product polynomial is the same for the dual code dimension."
   ]
  },
  {
   "cell_type": "code",
   "execution_count": 3,
   "id": "05497e24",
   "metadata": {},
   "outputs": [
    {
     "name": "stdout",
     "output_type": "stream",
     "text": [
      "The (individual) degree of the minor product polynomial is the same for the dual dimension\n"
     ]
    }
   ],
   "source": [
    "for n in range(1, 20):\n",
    "    for k in range(n + 1):\n",
    "        assert minor_product_polynomial_degree(n, k) == minor_product_polynomial_degree(n, n - k)\n",
    "        assert minor_product_polynomial_individual_degree_standard_form(n, k) == minor_product_polynomial_individual_degree_standard_form(n, n - k)\n",
    "        \n",
    "print(\"The (individual) degree of the minor product polynomial is the same for the dual dimension\")"
   ]
  },
  {
   "cell_type": "markdown",
   "id": "d3c81ab0",
   "metadata": {},
   "source": [
    "## Minors are nonzero\n",
    "\n",
    "The following cells show that the minor polynomials are nonzero by choosing a suitable evaluation."
   ]
  },
  {
   "cell_type": "code",
   "execution_count": 4,
   "id": "f20b2ae2",
   "metadata": {},
   "outputs": [
    {
     "name": "stdout",
     "output_type": "stream",
     "text": [
      "Defining x00, x01, x02, x10, x11, x12, x20, x21, x22\n",
      "[  1 x00 x01 x02   0   0]\n",
      "[ -8 x10 x11 x12   0   0]\n",
      "[  6 x20 x21 x22   0   0]\n",
      "[  0   1  -8   6  -4   7]\n",
      "[  0  -8   6  -4   7   3]\n",
      "[  0   6  -4   7   3   5]\n",
      "-8*x01*x10 - 8*x02*x10 + 8*x00*x11 - 4*x02*x11 + 8*x00*x12 + 4*x01*x12 - 5*x01*x20 - 5*x02*x20 - 7*x11*x20 - 7*x12*x20 + 5*x00*x21 + 6*x02*x21 + 7*x10*x21 + 5*x12*x21 + 5*x00*x22 - 6*x01*x22 + 7*x10*x22 - 5*x11*x22\n"
     ]
    }
   ],
   "source": [
    "# create one of the 2k x 2k submatrices, denoted by M, and compute its determinant\n",
    "n, k = 6, 3\n",
    "K = GF(17)\n",
    "\n",
    "G0 = cauchy_matrix(K, k, n)\n",
    "\n",
    "G = create_generator_matrix(G0)\n",
    "M = G[:, [0, 6, 7, 8, 9, 10]]\n",
    "M.base_ring().inject_variables()\n",
    "print(M)\n",
    "print(M.det())"
   ]
  },
  {
   "cell_type": "code",
   "execution_count": 5,
   "id": "4880e2bf",
   "metadata": {},
   "outputs": [
    {
     "name": "stdout",
     "output_type": "stream",
     "text": [
      "[ 1  1  0  0  0  0]\n",
      "[-8  0  1  0  0  0]\n",
      "[ 6  0  0  0  0  0]\n",
      "[ 0  1 -8  6 -4  7]\n",
      "[ 0 -8  6 -4  7  3]\n",
      "[ 0  6 -4  7  3  5]\n",
      "8\n"
     ]
    }
   ],
   "source": [
    "# the following evaluation shows that the polynomial M.det() is nonzero\n",
    "M_eval = M.subs({x00: 1, x01: 0, x02: 0, x10: 0, x11: 1, x12: 0, x20: 0, x21: 0, x22: 0}) # type: ignore\n",
    "print(M_eval)\n",
    "print(M_eval.det())"
   ]
  },
  {
   "cell_type": "markdown",
   "id": "2ae19db4",
   "metadata": {},
   "source": [
    "## Required field size\n",
    "\n",
    "The next cells show how large the field size needs to be for some small parameters."
   ]
  },
  {
   "cell_type": "code",
   "execution_count": 6,
   "id": "150ae98c",
   "metadata": {},
   "outputs": [
    {
     "name": "stdout",
     "output_type": "stream",
     "text": [
      "[n, k] : degree of polynomial -> individual degree if G0 is in standard form\n",
      "\n",
      "[2, 1] : 1 -> 1\n",
      "\n",
      "[3, 1] : 3 -> 2\n",
      "[3, 2] : 3 -> 2\n",
      "\n",
      "[4, 1] : 6 -> 3\n",
      "[4, 2] : 18 -> 10\n",
      "[4, 3] : 6 -> 3\n",
      "\n",
      "[5, 1] : 10 -> 4\n",
      "[5, 2] : 60 -> 28\n",
      "[5, 3] : 60 -> 28\n",
      "[5, 4] : 10 -> 4\n",
      "\n",
      "[6, 1] : 15 -> 5\n",
      "[6, 2] : 150 -> 60\n",
      "[6, 3] : 300 -> 126\n",
      "[6, 4] : 150 -> 60\n",
      "[6, 5] : 15 -> 5\n",
      "\n",
      "[7, 1] : 21 -> 6\n",
      "[7, 2] : 315 -> 110\n",
      "[7, 3] : 1050 -> 396\n",
      "[7, 4] : 1050 -> 396\n",
      "[7, 5] : 315 -> 110\n",
      "[7, 6] : 21 -> 6\n",
      "\n",
      "[8, 1] : 28 -> 7\n",
      "[8, 2] : 588 -> 182\n",
      "[8, 3] : 2940 -> 1001\n",
      "[8, 4] : 4900 -> 1716\n",
      "[8, 5] : 2940 -> 1001\n",
      "[8, 6] : 588 -> 182\n",
      "[8, 7] : 28 -> 7\n",
      "\n",
      "[9, 1] : 36 -> 8\n",
      "[9, 2] : 1008 -> 280\n",
      "[9, 3] : 7056 -> 2184\n",
      "[9, 4] : 17640 -> 5720\n",
      "[9, 5] : 17640 -> 5720\n",
      "[9, 6] : 7056 -> 2184\n",
      "[9, 7] : 1008 -> 280\n",
      "[9, 8] : 36 -> 8\n",
      "\n"
     ]
    }
   ],
   "source": [
    "print(\"[n, k] : degree of polynomial -> individual degree if G0 is in standard form\")\n",
    "print()\n",
    "\n",
    "for n in range(2, 10):\n",
    "    for k in range(1, n):\n",
    "        print(f\"[{n}, {k}] :\",\n",
    "              minor_product_polynomial_degree(n, k),\n",
    "              \"->\",\n",
    "              minor_product_polynomial_individual_degree_standard_form(n, k),\n",
    "             )\n",
    "    print()"
   ]
  },
  {
   "cell_type": "code",
   "execution_count": 7,
   "id": "7eb3fb4a",
   "metadata": {},
   "outputs": [
    {
     "name": "stdout",
     "output_type": "stream",
     "text": [
      "[       1        0        0        1        2|      z2   z2 + 1        0        0        0]\n",
      "[       0        1        0     2*z2        1|      z2        2        0        0        0]\n",
      "[       0        0        1 2*z2 + 2 2*z2 + 1|      z2 2*z2 + 1        0        0        0]\n",
      "[--------------------------------------------+--------------------------------------------]\n",
      "[       0        0        0        0        0|       1        0        0        1        2]\n",
      "[       0        0        0        0        0|       0        1        0     2*z2        1]\n",
      "[       0        0        0        0        0|       0        0        1 2*z2 + 2 2*z2 + 1]\n"
     ]
    }
   ],
   "source": [
    "# this is the smallest field we have at the moment\n",
    "n, k = 5, 3\n",
    "q = 9\n",
    "K = GF(q)\n",
    "\n",
    "G0 = cauchy_matrix(K, k, n).rref()\n",
    "\n",
    "G = find_solution(G0)\n",
    "\n",
    "print(G)"
   ]
  }
 ],
 "metadata": {
  "kernelspec": {
   "display_name": "SageMath 9.5",
   "language": "sage",
   "name": "sagemath"
  },
  "language_info": {
   "codemirror_mode": {
    "name": "ipython",
    "version": 3
   },
   "file_extension": ".py",
   "mimetype": "text/x-python",
   "name": "python",
   "nbconvert_exporter": "python",
   "pygments_lexer": "ipython3",
   "version": "3.10.12"
  }
 },
 "nbformat": 4,
 "nbformat_minor": 5
}
