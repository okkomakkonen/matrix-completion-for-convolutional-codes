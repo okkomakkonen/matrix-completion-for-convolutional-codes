{
 "cells": [
  {
   "cell_type": "code",
   "execution_count": 1,
   "id": "ad83a2f0",
   "metadata": {},
   "outputs": [],
   "source": [
    "from itertools import combinations\n",
    "\n",
    "def create_variable_matrix(K, n, m):\n",
    "\n",
    "    R = PolynomialRing(K, n, m, var_array=\"x\")\n",
    "    x = R.gens()\n",
    "    X = matrix([x[i:i + m] for i in range(0, n * m, m)])\n",
    "    \n",
    "    return X\n",
    "\n",
    "def create_full_generator_matrix(K, n, k):\n",
    "    \n",
    "    return create_variable_matrix(K, k, n)\n",
    "\n",
    "def create_standard_generator_matrix(K, n, k):\n",
    "    \n",
    "    X = create_variable_matrix(K, k, n - k)\n",
    "    \n",
    "    return block_matrix([[identity_matrix(K, k, k), X]])\n",
    "\n",
    "def minor_product_polynomial(G):\n",
    "    \n",
    "    k, n = G.dimensions()\n",
    "    \n",
    "    P = 1\n",
    "    \n",
    "    for I in combinations(range(n), k):\n",
    "        P *= G[:, I].det()\n",
    "        \n",
    "    return P"
   ]
  },
  {
   "cell_type": "code",
   "execution_count": 2,
   "id": "028f3d22",
   "metadata": {},
   "outputs": [],
   "source": [
    "def full_degree(n, k):\n",
    "    \n",
    "    return binomial(n, k)*k\n",
    "\n",
    "def full_individual_degree(n, k):\n",
    "    \n",
    "    return binomial(n - 1, k - 1)\n",
    "\n",
    "def standard_degree(n, k):\n",
    "    \n",
    "    d = 0\n",
    "    \n",
    "    for l in range(k + 1):\n",
    "        d += binomial(k, l)*binomial(n - k, l)*l\n",
    "        \n",
    "    return d\n",
    "\n",
    "def standard_individual_degree(n, k):\n",
    "    \n",
    "    assert 1 <= k <= n\n",
    "    \n",
    "    d = 0\n",
    "    for l in range(k + 1):\n",
    "        d += binomial(k - 1, k - l)*binomial(n - k - 1, l - 1)\n",
    "        \n",
    "    return d"
   ]
  },
  {
   "cell_type": "code",
   "execution_count": 3,
   "id": "c8cc41f1",
   "metadata": {},
   "outputs": [
    {
     "name": "stdout",
     "output_type": "stream",
     "text": [
      "Actual degrees\n",
      "30\n",
      "5\n",
      "Closed formulas\n",
      "30\n",
      "5\n"
     ]
    }
   ],
   "source": [
    "n, k = 6, 2\n",
    "K = GF(2)\n",
    "\n",
    "G = create_full_generator_matrix(K, n, k)\n",
    "P = minor_product_polynomial(G)\n",
    "\n",
    "print(\"Actual degrees\")\n",
    "print(P.degree())\n",
    "print(P.degrees()[0])\n",
    "print(\"Closed formulas\")\n",
    "print(full_degree(n, k))\n",
    "print(full_individual_degree(n, k))"
   ]
  },
  {
   "cell_type": "code",
   "execution_count": 4,
   "id": "5cd380bf",
   "metadata": {},
   "outputs": [
    {
     "name": "stdout",
     "output_type": "stream",
     "text": [
      "Actual degrees\n",
      "60\n",
      "10\n",
      "Closed formulas\n",
      "60\n",
      "10\n"
     ]
    }
   ],
   "source": [
    "n, k = 7, 3\n",
    "K = GF(7)\n",
    "\n",
    "G = create_standard_generator_matrix(K, n, k)\n",
    "P = minor_product_polynomial(G)\n",
    "\n",
    "print(\"Actual degrees\")\n",
    "print(P.degree())\n",
    "print(P.degrees()[0])\n",
    "print(\"Closed formulas\")\n",
    "print(standard_degree(n, k))\n",
    "print(standard_individual_degree(n, k))"
   ]
  },
  {
   "cell_type": "code",
   "execution_count": 5,
   "id": "cac137f3",
   "metadata": {},
   "outputs": [
    {
     "data": {
      "text/plain": [
       "[  1   0   0|x00 x01 x02 x03]\n",
       "[  0   1   0|x10 x11 x12 x13]\n",
       "[  0   0   1|x20 x21 x22 x23]"
      ]
     },
     "execution_count": 5,
     "metadata": {},
     "output_type": "execute_result"
    }
   ],
   "source": [
    "G"
   ]
  },
  {
   "cell_type": "code",
   "execution_count": 13,
   "id": "963b8a06",
   "metadata": {},
   "outputs": [
    {
     "name": "stdout",
     "output_type": "stream",
     "text": [
      "[2, 1] : 2\n",
      "\n",
      "[3, 1] : 2\n",
      "[3, 2] : 2\n",
      "\n",
      "[4, 1] : 2\n",
      "[4, 2] : 3\n",
      "[4, 3] : 2\n",
      "\n",
      "[5, 1] : 2\n",
      "[5, 2] : 4\n",
      "[5, 3] : 4\n",
      "[5, 4] : 2\n",
      "\n",
      "[6, 1] : 2\n",
      "[6, 2] : 5\n",
      "[6, 3] : 7\n",
      "[6, 4] : 5\n",
      "[6, 5] : 2\n",
      "\n",
      "[7, 1] : 2\n",
      "[7, 2] : 6\n",
      "[7, 3] : 11\n",
      "[7, 4] : 11\n",
      "[7, 5] : 6\n",
      "[7, 6] : 2\n",
      "\n",
      "[8, 1] : 2\n",
      "[8, 2] : 7\n",
      "[8, 3] : 16\n",
      "[8, 4] : 21\n",
      "[8, 5] : 16\n",
      "[8, 6] : 7\n",
      "[8, 7] : 2\n",
      "\n",
      "[9, 1] : 2\n",
      "[9, 2] : 8\n",
      "[9, 3] : 22\n",
      "[9, 4] : 36\n",
      "[9, 5] : 36\n",
      "[9, 6] : 22\n",
      "[9, 7] : 8\n",
      "[9, 8] : 2\n",
      "\n"
     ]
    }
   ],
   "source": [
    "for n in range(2, 10):\n",
    "    for k in range(1, n):\n",
    "        print(f\"[{n}, {k}] : {standard_individual_degree(n, k) + 1}\")\n",
    "    print()"
   ]
  },
  {
   "cell_type": "code",
   "execution_count": 7,
   "id": "15453380",
   "metadata": {},
   "outputs": [
    {
     "name": "stdout",
     "output_type": "stream",
     "text": [
      "Defining x00, x01, x02, x03, x10, x11, x12, x13, x20, x21, x22, x23\n"
     ]
    }
   ],
   "source": [
    "G.base_ring().inject_variables()"
   ]
  },
  {
   "cell_type": "code",
   "execution_count": 9,
   "id": "7bf1c5b9",
   "metadata": {},
   "outputs": [],
   "source": [
    "G_new = G.subs({x00: 1, x01: 1, x02: 1, x03: 1})"
   ]
  },
  {
   "cell_type": "code",
   "execution_count": 11,
   "id": "e93f3ce0",
   "metadata": {},
   "outputs": [
    {
     "data": {
      "text/plain": [
       "(0, 0, 0, 0, 10, 10, 10, 10, 10, 10, 10, 10)"
      ]
     },
     "execution_count": 11,
     "metadata": {},
     "output_type": "execute_result"
    }
   ],
   "source": [
    "minor_product_polynomial(G_new).degrees()"
   ]
  },
  {
   "cell_type": "code",
   "execution_count": 12,
   "id": "48a5f056",
   "metadata": {},
   "outputs": [
    {
     "data": {
      "text/plain": [
       "(10, 10, 10, 10, 10, 10, 10, 10, 10, 10, 10, 10)"
      ]
     },
     "execution_count": 12,
     "metadata": {},
     "output_type": "execute_result"
    }
   ],
   "source": [
    "minor_product_polynomial(G).degrees()"
   ]
  },
  {
   "cell_type": "code",
   "execution_count": null,
   "id": "bef4f584",
   "metadata": {},
   "outputs": [],
   "source": []
  }
 ],
 "metadata": {
  "kernelspec": {
   "display_name": "SageMath 9.0",
   "language": "sage",
   "name": "sagemath"
  },
  "language_info": {
   "codemirror_mode": {
    "name": "ipython",
    "version": 3
   },
   "file_extension": ".py",
   "mimetype": "text/x-python",
   "name": "python",
   "nbconvert_exporter": "python",
   "pygments_lexer": "ipython3",
   "version": "3.8.10"
  }
 },
 "nbformat": 4,
 "nbformat_minor": 5
}
