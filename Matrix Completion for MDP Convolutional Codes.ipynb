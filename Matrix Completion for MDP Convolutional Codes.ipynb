{
 "cells": [
  {
   "cell_type": "markdown",
   "id": "b1f62fa4",
   "metadata": {},
   "source": [
    "# Matrix Completion for MDP Convolutional Codes\n",
    "\n",
    "This notebook has some useful functions for playing around with using ideas from matrix completion to construct MDP convolutional codes. The following cells contain some methods for creating the sliding truncated generator matrices and their associated _minor product polynomials_."
   ]
  },
  {
   "cell_type": "code",
   "execution_count": 2,
   "id": "c471f085",
   "metadata": {
    "vscode": {
     "languageId": "python"
    }
   },
   "outputs": [],
   "source": [
    "load(\"convolutional_codes.sage\")"
   ]
  },
  {
   "cell_type": "code",
   "execution_count": 3,
   "id": "8a0ec278",
   "metadata": {
    "vscode": {
     "languageId": "python"
    }
   },
   "outputs": [],
   "source": [
    "from itertools import combinations\n",
    "    \n",
    "def minor_product_polynomial(G0, X=None):\n",
    "    \"\"\"\n",
    "    Compute the value of the minor product polynomial for G0 at X\n",
    "    \n",
    "    If X is not specified, it is set to contain indeterminates.\n",
    "    \"\"\"\n",
    "    \n",
    "    k, n = G0.dimensions()\n",
    "    G = create_generator_matrix(G0, X)\n",
    "    P = 1\n",
    "    \n",
    "    for i in range(k + 1):\n",
    "        for j in range(k, n + 1):\n",
    "            if i + j != 2*k:\n",
    "                continue\n",
    "            \n",
    "            for I in combinations(range(n), i):\n",
    "                for J in combinations(range(n, 2*n), j):\n",
    "                    \n",
    "                    # combine I and J as a union\n",
    "                    S = I + J\n",
    "                    M = G[:, S]\n",
    "                    P *= M.det()\n",
    "                    \n",
    "    return P\n",
    "\n",
    "def minor_product_polynomial_degree(n, k):\n",
    "    \"\"\"Compute the degree of the minor product polynomial for any k x n MDS matrix G0\"\"\"\n",
    "    \n",
    "    assert 0 <= k <= n\n",
    "    \n",
    "    d = 0\n",
    "    for i in range(k + 1):\n",
    "        for j in range(k, n + 1):\n",
    "                if i + j != 2*k:\n",
    "                    continue\n",
    "                \n",
    "                d += binomial(n, i) * binomial(n, j) * (j - k)\n",
    "    \n",
    "    return d\n",
    "\n",
    "def minor_product_polynomial_individual_degree(n, k):\n",
    "    \"\"\"\n",
    "    Compute (an upper bound on) the individual degree of any variable\n",
    "    in the minor product polynomial of any k x n MDS matrix G0\n",
    "    \"\"\"\n",
    "    \n",
    "    assert 0 <= k <= n\n",
    "    \n",
    "    d = 0\n",
    "    for i in range(k):\n",
    "        for j in range(k + 1, n + 1):\n",
    "                if i + j != 2*k:\n",
    "                    continue\n",
    "\n",
    "                d += binomial(n, i) * binomial(n - 1, j - 1)\n",
    "\n",
    "    return d\n",
    "\n",
    "def minor_product_polynomial_individual_degree_standard_form(n, k):\n",
    "    \"\"\"\n",
    "    Compute (an upper bound on) the individual degree of any variable\n",
    "    in the minor product polynomial of any k x n MDS matrix G0 that is\n",
    "    in standard form\n",
    "    \"\"\"\n",
    "    \n",
    "    assert 0 <= k <= n\n",
    "    \n",
    "    d = 0\n",
    "    for i in range(k):\n",
    "        for j in range(k + 1, n + 1):\n",
    "                if i + j != 2*k:\n",
    "                    continue\n",
    "\n",
    "                d += binomial(n - 1, i) * binomial(n - 1, j - 1)\n",
    "\n",
    "    return d\n",
    "\n",
    "def print_minors(G0):\n",
    "    \"\"\"Compute the degree of the minor product polynomial for MDS matrix G0\"\"\"\n",
    "    \n",
    "    k, n = G0.dimensions()\n",
    "    G = create_generator_matrix(G0)\n",
    "    \n",
    "    print(G)\n",
    "    print()\n",
    "    \n",
    "    for i in range(k + 1):\n",
    "        for j in range(k, n + 1):\n",
    "            if i + j != 2*k:\n",
    "                continue\n",
    "            \n",
    "            for I in combinations(range(n), i):\n",
    "                for J in combinations(range(n, 2*n), j):\n",
    "                    \n",
    "                    S = I + J\n",
    "                    M = G[:, S]\n",
    "                    \n",
    "                    # do sanity checks\n",
    "                    assert M.det().degree() == j - k\n",
    "                    assert M.det().is_homogeneous()\n",
    "                    \n",
    "                    print(f\"{I} + {J}: {M.det()}\")\n",
    "\n",
    "def find_random_solution(G0, num_tries=10_000, seed=1):\n",
    "    \"\"\"\n",
    "    Find a solution for X by using random sampling\n",
    "    \n",
    "    This will only do 10,000 tries before raising an exception.\n",
    "    The random seed is set so that it produces reproducible results.\n",
    "    \"\"\"\n",
    "    \n",
    "    set_random_seed(seed)\n",
    "    \n",
    "    k, n = G0.dimensions()\n",
    "    K = G0.base_ring()\n",
    "\n",
    "    for _ in range(num_tries):\n",
    "\n",
    "        X = random_matrix(K, k, (n - k))\n",
    "\n",
    "        if satisfies_condition(G0, X):\n",
    "            G = create_generator_matrix(G0, X)\n",
    "            return G\n",
    "    \n",
    "    raise Exception(f\"did not find a solution in {num_tries} tries\")\n",
    "    \n",
    "def find_solution(G0, K=None):\n",
    "    \"\"\"Find a solution for X by going through all possibilities\"\"\"\n",
    "    \n",
    "    k, n = G0.dimensions()\n",
    "    if K is None:\n",
    "        K = G0.base_ring()\n",
    "\n",
    "    for X in MatrixSpace(K, k, (n - k)):\n",
    "\n",
    "        if satisfies_condition(G0, X):\n",
    "            G = create_generator_matrix(G0, X)\n",
    "            return G\n",
    "    \n",
    "    raise Exception(f\"solution does not exist over this field\")\n",
    "    \n",
    "def print_all_solutions(G0, K=None):\n",
    "    \"\"\"Print all solutions for X by going through all possibilities\"\"\"\n",
    "    \n",
    "    k, n = G0.dimensions()\n",
    "    if K is None:\n",
    "        K = G0.base_ring()\n",
    "\n",
    "    found = False\n",
    "    for X in MatrixSpace(K, k, (n - k)):\n",
    "\n",
    "        if satisfies_condition(G0, X):\n",
    "            G = create_generator_matrix(G0, X)\n",
    "            found = True\n",
    "            print(G)\n",
    "            print()\n",
    "            \n",
    "    if not found:       \n",
    "        print(\"finished without finding any solutions\")"
   ]
  },
  {
   "cell_type": "markdown",
   "id": "ec655fbe",
   "metadata": {},
   "source": [
    "## Minor product polynomial\n",
    "\n",
    "The next example shows how to compute the minor product polynomial for a very simple case."
   ]
  },
  {
   "cell_type": "code",
   "execution_count": 4,
   "id": "efe9e4f7",
   "metadata": {
    "vscode": {
     "languageId": "python"
    }
   },
   "outputs": [
    {
     "name": "stdout",
     "output_type": "stream",
     "text": [
      "-2*x00^2*x10 - 2*x00*x10^2 - x10^3\n"
     ]
    }
   ],
   "source": [
    "n, k = 3, 2\n",
    "K = GF(5)\n",
    "\n",
    "G0 = vandermonde_matrix(K, k, n)\n",
    "P = minor_product_polynomial(G0)\n",
    "\n",
    "print(P)"
   ]
  },
  {
   "cell_type": "markdown",
   "id": "941b9119",
   "metadata": {},
   "source": [
    "## Degree of minor product polynomial\n",
    "\n",
    "With the below cell we can verify that the degree of the minor product polynomial is the same for the dual code dimension."
   ]
  },
  {
   "cell_type": "code",
   "execution_count": 5,
   "id": "05497e24",
   "metadata": {
    "vscode": {
     "languageId": "python"
    }
   },
   "outputs": [
    {
     "name": "stdout",
     "output_type": "stream",
     "text": [
      "The (individual) degree of the minor product polynomial is the same for the dual dimension\n"
     ]
    }
   ],
   "source": [
    "for n in range(1, 20):\n",
    "    for k in range(n + 1):\n",
    "        assert minor_product_polynomial_degree(n, k) == minor_product_polynomial_degree(n, n - k)\n",
    "        assert minor_product_polynomial_individual_degree_standard_form(n, k) == minor_product_polynomial_individual_degree_standard_form(n, n - k)\n",
    "        \n",
    "print(\"The (individual) degree of the minor product polynomial is the same for the dual dimension\")"
   ]
  },
  {
   "cell_type": "markdown",
   "id": "d3c81ab0",
   "metadata": {},
   "source": [
    "## Minors are nonzero\n",
    "\n",
    "The following cells show that the minor polynomials are nonzero by choosing a suitable evaluation."
   ]
  },
  {
   "cell_type": "code",
   "execution_count": 6,
   "id": "f20b2ae2",
   "metadata": {
    "vscode": {
     "languageId": "python"
    }
   },
   "outputs": [
    {
     "name": "stdout",
     "output_type": "stream",
     "text": [
      "Defining x00, x01, x02, x10, x11, x12, x20, x21, x22\n",
      "[  1 x00 x01 x02   0   0]\n",
      "[ -8 x10 x11 x12   0   0]\n",
      "[  6 x20 x21 x22   0   0]\n",
      "[  0   1  -8   6  -4   7]\n",
      "[  0  -8   6  -4   7   3]\n",
      "[  0   6  -4   7   3   5]\n",
      "-8*x01*x10 - 8*x02*x10 + 8*x00*x11 - 4*x02*x11 + 8*x00*x12 + 4*x01*x12 - 5*x01*x20 - 5*x02*x20 - 7*x11*x20 - 7*x12*x20 + 5*x00*x21 + 6*x02*x21 + 7*x10*x21 + 5*x12*x21 + 5*x00*x22 - 6*x01*x22 + 7*x10*x22 - 5*x11*x22\n"
     ]
    }
   ],
   "source": [
    "# create one of the 2k x 2k submatrices, denoted by M, and compute its determinant\n",
    "n, k = 6, 3\n",
    "K = GF(17)\n",
    "\n",
    "G0 = cauchy_matrix(K, k, n)\n",
    "\n",
    "G = create_generator_matrix(G0)\n",
    "M = G[:, [0, 6, 7, 8, 9, 10]]\n",
    "M.base_ring().inject_variables()\n",
    "print(M)\n",
    "print(M.det())"
   ]
  },
  {
   "cell_type": "code",
   "execution_count": 5,
   "id": "4880e2bf",
   "metadata": {
    "vscode": {
     "languageId": "python"
    }
   },
   "outputs": [
    {
     "name": "stdout",
     "output_type": "stream",
     "text": [
      "[ 1  1  0  0  0  0]\n",
      "[-8  0  1  0  0  0]\n",
      "[ 6  0  0  0  0  0]\n",
      "[ 0  1 -8  6 -4  7]\n",
      "[ 0 -8  6 -4  7  3]\n",
      "[ 0  6 -4  7  3  5]\n",
      "8\n"
     ]
    }
   ],
   "source": [
    "# the following evaluation shows that the polynomial M.det() is nonzero\n",
    "M_eval = M.subs({x00: 1, x01: 0, x02: 0, x10: 0, x11: 1, x12: 0, x20: 0, x21: 0, x22: 0})\n",
    "print(M_eval)\n",
    "print(M_eval.det())"
   ]
  },
  {
   "cell_type": "markdown",
   "id": "2ae19db4",
   "metadata": {},
   "source": [
    "## Required field size\n",
    "\n",
    "The next cells show how large the field size needs to be for some small parameters."
   ]
  },
  {
   "cell_type": "code",
   "execution_count": 9,
   "id": "150ae98c",
   "metadata": {
    "vscode": {
     "languageId": "python"
    }
   },
   "outputs": [
    {
     "name": "stdout",
     "output_type": "stream",
     "text": [
      "[n, k] : degree of polynomial -> individual degree if G0 is in standard form -> best hope\n",
      "\n",
      "[2, 1] : 1 -> 1 -> 1\n",
      "\n",
      "[3, 1] : 3 -> 2 -> 2\n",
      "[3, 2] : 3 -> 2 -> 2\n",
      "\n",
      "[4, 1] : 6 -> 3 -> 2\n",
      "[4, 2] : 18 -> 10 -> 5\n",
      "[4, 3] : 6 -> 3 -> 2\n",
      "\n",
      "[5, 1] : 10 -> 4 -> 3\n",
      "[5, 2] : 60 -> 28 -> 10\n",
      "[5, 3] : 60 -> 28 -> 10\n",
      "[5, 4] : 10 -> 4 -> 3\n",
      "\n",
      "[6, 1] : 15 -> 5 -> 3\n",
      "[6, 2] : 150 -> 60 -> 19\n",
      "[6, 3] : 300 -> 126 -> 34\n",
      "[6, 4] : 150 -> 60 -> 19\n",
      "[6, 5] : 15 -> 5 -> 3\n",
      "\n",
      "[7, 1] : 21 -> 6 -> 4\n",
      "[7, 2] : 315 -> 110 -> 32\n",
      "[7, 3] : 1050 -> 396 -> 88\n",
      "[7, 4] : 1050 -> 396 -> 88\n",
      "[7, 5] : 315 -> 110 -> 32\n",
      "[7, 6] : 21 -> 6 -> 4\n",
      "\n",
      "[8, 1] : 28 -> 7 -> 4\n",
      "[8, 2] : 588 -> 182 -> 49\n",
      "[8, 3] : 2940 -> 1001 -> 196\n",
      "[8, 4] : 4900 -> 1716 -> 307\n",
      "[8, 5] : 2940 -> 1001 -> 196\n",
      "[8, 6] : 588 -> 182 -> 49\n",
      "[8, 7] : 28 -> 7 -> 4\n",
      "\n",
      "[9, 1] : 36 -> 8 -> 5\n",
      "[9, 2] : 1008 -> 280 -> 72\n",
      "[9, 3] : 7056 -> 2184 -> 392\n",
      "[9, 4] : 17640 -> 5720 -> 882\n",
      "[9, 5] : 17640 -> 5720 -> 882\n",
      "[9, 6] : 7056 -> 2184 -> 392\n",
      "[9, 7] : 1008 -> 280 -> 72\n",
      "[9, 8] : 36 -> 8 -> 5\n",
      "\n"
     ]
    }
   ],
   "source": [
    "print(\"[n, k] : degree of polynomial -> individual degree if G0 is in standard form -> best hope\")\n",
    "print()\n",
    "\n",
    "for n in range(2, 10):\n",
    "    for k in range(1, n):\n",
    "        print(f\"[{n}, {k}] :\",\n",
    "              minor_product_polynomial_degree(n, k),\n",
    "              \"->\",\n",
    "              minor_product_polynomial_individual_degree_standard_form(n, k),\n",
    "              \"->\",\n",
    "              ceil(minor_product_polynomial_degree(n, k) / (k * (n - k)))\n",
    "             )\n",
    "    print()"
   ]
  },
  {
   "cell_type": "code",
   "execution_count": 7,
   "id": "7eb3fb4a",
   "metadata": {
    "vscode": {
     "languageId": "python"
    }
   },
   "outputs": [
    {
     "name": "stdout",
     "output_type": "stream",
     "text": [
      "[ 1  0 18 17 16 15]\n",
      "[ 0  1  2  3  4  5]\n"
     ]
    }
   ],
   "source": [
    "n, k = 6, 2\n",
    "q = 19\n",
    "K = GF(q)\n",
    "\n",
    "G0 = vandermonde_matrix(K, k, n).rref()\n",
    "\n",
    "print(G0)"
   ]
  },
  {
   "cell_type": "code",
   "execution_count": 8,
   "id": "65c48873",
   "metadata": {
    "vscode": {
     "languageId": "python"
    }
   },
   "outputs": [
    {
     "ename": "Exception",
     "evalue": "did not find a solution in 10000 tries",
     "output_type": "error",
     "traceback": [
      "\u001b[0;31m---------------------------------------------------------------------------\u001b[0m",
      "\u001b[0;31mException\u001b[0m                                 Traceback (most recent call last)",
      "\u001b[0;32m<ipython-input-8-8f26632779ff>\u001b[0m in \u001b[0;36m<module>\u001b[0;34m\u001b[0m\n\u001b[0;32m----> 1\u001b[0;31m \u001b[0mG\u001b[0m \u001b[0;34m=\u001b[0m \u001b[0mfind_random_solution\u001b[0m\u001b[0;34m(\u001b[0m\u001b[0mG0\u001b[0m\u001b[0;34m,\u001b[0m \u001b[0mseed\u001b[0m\u001b[0;34m=\u001b[0m\u001b[0;32mNone\u001b[0m\u001b[0;34m)\u001b[0m\u001b[0;34m\u001b[0m\u001b[0;34m\u001b[0m\u001b[0m\n\u001b[0m\u001b[1;32m      2\u001b[0m \u001b[0;34m\u001b[0m\u001b[0m\n\u001b[1;32m      3\u001b[0m \u001b[0mprint\u001b[0m\u001b[0;34m(\u001b[0m\u001b[0mG\u001b[0m\u001b[0;34m)\u001b[0m\u001b[0;34m\u001b[0m\u001b[0;34m\u001b[0m\u001b[0m\n",
      "\u001b[0;32m<ipython-input-1-3a777dd563ba>\u001b[0m in \u001b[0;36mfind_random_solution\u001b[0;34m(G0, num_tries, seed)\u001b[0m\n\u001b[1;32m    128\u001b[0m             \u001b[0;32mreturn\u001b[0m \u001b[0mG\u001b[0m\u001b[0;34m\u001b[0m\u001b[0;34m\u001b[0m\u001b[0m\n\u001b[1;32m    129\u001b[0m \u001b[0;34m\u001b[0m\u001b[0m\n\u001b[0;32m--> 130\u001b[0;31m     \u001b[0;32mraise\u001b[0m \u001b[0mException\u001b[0m\u001b[0;34m(\u001b[0m\u001b[0;34mf\"did not find a solution in {num_tries} tries\"\u001b[0m\u001b[0;34m)\u001b[0m\u001b[0;34m\u001b[0m\u001b[0;34m\u001b[0m\u001b[0m\n\u001b[0m\u001b[1;32m    131\u001b[0m \u001b[0;34m\u001b[0m\u001b[0m\n\u001b[1;32m    132\u001b[0m \u001b[0;32mdef\u001b[0m \u001b[0mfind_solution\u001b[0m\u001b[0;34m(\u001b[0m\u001b[0mG0\u001b[0m\u001b[0;34m,\u001b[0m \u001b[0mK\u001b[0m\u001b[0;34m=\u001b[0m\u001b[0;32mNone\u001b[0m\u001b[0;34m)\u001b[0m\u001b[0;34m:\u001b[0m\u001b[0;34m\u001b[0m\u001b[0;34m\u001b[0m\u001b[0m\n",
      "\u001b[0;31mException\u001b[0m: did not find a solution in 10000 tries"
     ]
    }
   ],
   "source": [
    "G = find_random_solution(G0, seed=None)\n",
    "\n",
    "print(G)"
   ]
  },
  {
   "cell_type": "code",
   "execution_count": null,
   "id": "b19cee7c",
   "metadata": {
    "vscode": {
     "languageId": "python"
    }
   },
   "outputs": [],
   "source": [
    "n, k = 5, 3\n",
    "q = 9\n",
    "K.<a> = GF(q, \"a\")\n",
    "\n",
    "G0 = cauchy_matrix(K, k, n)\n",
    "\n",
    "print(G0)"
   ]
  },
  {
   "cell_type": "code",
   "execution_count": null,
   "id": "d108597c",
   "metadata": {
    "scrolled": false,
    "vscode": {
     "languageId": "python"
    }
   },
   "outputs": [],
   "source": [
    "G = find_solution(G0)\n",
    "\n",
    "print(G)"
   ]
  },
  {
   "cell_type": "code",
   "execution_count": null,
   "id": "2255fd33",
   "metadata": {
    "vscode": {
     "languageId": "python"
    }
   },
   "outputs": [],
   "source": [
    "latex(G)"
   ]
  },
  {
   "cell_type": "markdown",
   "id": "dcdb5579",
   "metadata": {},
   "source": [
    "## Other ideas"
   ]
  },
  {
   "cell_type": "code",
   "execution_count": null,
   "id": "b3ae13ec",
   "metadata": {
    "vscode": {
     "languageId": "python"
    }
   },
   "outputs": [],
   "source": [
    "n, k = 5, 3\n",
    "K = GF(11)\n",
    "\n",
    "G0 = vandermonde_matrix(K, k, n).rref()\n",
    "\n",
    "create_generator_matrix(G0)"
   ]
  },
  {
   "cell_type": "code",
   "execution_count": null,
   "id": "eccc3a27",
   "metadata": {
    "vscode": {
     "languageId": "python"
    }
   },
   "outputs": [],
   "source": [
    "P = minor_product_polynomial(G0)"
   ]
  },
  {
   "cell_type": "code",
   "execution_count": null,
   "id": "9e16f377",
   "metadata": {
    "vscode": {
     "languageId": "python"
    }
   },
   "outputs": [],
   "source": [
    "print(P.degrees())"
   ]
  },
  {
   "cell_type": "code",
   "execution_count": null,
   "id": "a27a7967",
   "metadata": {
    "vscode": {
     "languageId": "python"
    }
   },
   "outputs": [],
   "source": [
    "best = None\n",
    "\n",
    "for e in P.exponents():\n",
    "    if best is None:\n",
    "        best = e\n",
    "    else:\n",
    "        best = min(best, e, key=max)\n",
    "\n",
    "print(best)"
   ]
  },
  {
   "cell_type": "code",
   "execution_count": null,
   "id": "609f25fe",
   "metadata": {
    "scrolled": false,
    "vscode": {
     "languageId": "python"
    }
   },
   "outputs": [],
   "source": [
    "P.is_squarefree()"
   ]
  },
  {
   "cell_type": "code",
   "execution_count": null,
   "id": "3f0b6d71",
   "metadata": {
    "vscode": {
     "languageId": "python"
    }
   },
   "outputs": [],
   "source": [
    "n, k = 5, 3\n",
    "K = GF(11)\n",
    "\n",
    "for _ in range(30):\n",
    "\n",
    "    G0 = random_systematic_mds_matrix(K, k, n)\n",
    "    \n",
    "    P = minor_product_polynomial(G0)\n",
    "    \n",
    "    print(G0, len(P.exponents()))"
   ]
  },
  {
   "cell_type": "code",
   "execution_count": null,
   "id": "4a6a141a",
   "metadata": {
    "vscode": {
     "languageId": "python"
    }
   },
   "outputs": [],
   "source": [
    "G = block_matrix([[identity_matrix(2, 2), identity_matrix(2, 2)]], subdivide=False)"
   ]
  },
  {
   "cell_type": "code",
   "execution_count": null,
   "id": "8f778f5f",
   "metadata": {
    "vscode": {
     "languageId": "python"
    }
   },
   "outputs": [],
   "source": [
    "G"
   ]
  },
  {
   "cell_type": "code",
   "execution_count": null,
   "id": "73da1020",
   "metadata": {
    "vscode": {
     "languageId": "python"
    }
   },
   "outputs": [],
   "source": []
  },
  {
   "cell_type": "code",
   "execution_count": null,
   "id": "d69c34ec",
   "metadata": {
    "vscode": {
     "languageId": "python"
    }
   },
   "outputs": [],
   "source": [
    "n = 5\n",
    "k = n - 2\n",
    "\n",
    "assert is_prime(n)\n",
    "\n",
    "K.<a> = GF(n^2, \"a\")\n",
    "\n",
    "G0 = matrix.vandermonde(vector(K, (0..n-1))).T[:k]\n",
    "\n",
    "x = a\n",
    "\n",
    "X = matrix([[0, 0]]*(k - 2) + [[x, 0], [1, x]])\n",
    "\n",
    "satisfies_condition(G0, X, verbose=True, stop=False)"
   ]
  },
  {
   "cell_type": "code",
   "execution_count": null,
   "id": "982979d5",
   "metadata": {
    "vscode": {
     "languageId": "python"
    }
   },
   "outputs": [],
   "source": [
    "G = create_generator_matrix(G0, X); G"
   ]
  },
  {
   "cell_type": "code",
   "execution_count": null,
   "id": "2d84edf0",
   "metadata": {
    "vscode": {
     "languageId": "python"
    }
   },
   "outputs": [],
   "source": [
    "M = G[:, (1, 5, 6, 7, 8, 9)]; print(M); print(M.det())"
   ]
  },
  {
   "cell_type": "code",
   "execution_count": null,
   "id": "07eb0f7c",
   "metadata": {
    "vscode": {
     "languageId": "python"
    }
   },
   "outputs": [],
   "source": [
    "minor(M, 1, 1, verbose=True)"
   ]
  },
  {
   "cell_type": "code",
   "execution_count": null,
   "id": "1490dd60",
   "metadata": {
    "vscode": {
     "languageId": "python"
    }
   },
   "outputs": [],
   "source": [
    "minor(M, 2, 1, verbose=True)"
   ]
  },
  {
   "cell_type": "code",
   "execution_count": null,
   "id": "500bfd9a",
   "metadata": {
    "vscode": {
     "languageId": "python"
    }
   },
   "outputs": [],
   "source": [
    "minor(M, 2, 2, verbose=True)"
   ]
  },
  {
   "cell_type": "code",
   "execution_count": null,
   "id": "b419fff8",
   "metadata": {
    "vscode": {
     "languageId": "python"
    }
   },
   "outputs": [],
   "source": [
    "def minor(M, i, j, verbose=False):\n",
    "    r, c = M.dimensions()\n",
    "    \n",
    "    rows = [0..r-1]\n",
    "    rows.remove(i)\n",
    "    columns = [0..c-1]\n",
    "    columns.remove(j)\n",
    "    \n",
    "    if verbose:\n",
    "        print(M[rows, columns])\n",
    "    \n",
    "    return M[rows, columns].det()"
   ]
  },
  {
   "cell_type": "code",
   "execution_count": null,
   "id": "cecd0d52",
   "metadata": {
    "vscode": {
     "languageId": "python"
    }
   },
   "outputs": [],
   "source": [
    "matrix(GF(5), [[2, 4], [4, 1]])"
   ]
  },
  {
   "cell_type": "code",
   "execution_count": null,
   "id": "2628657c",
   "metadata": {
    "vscode": {
     "languageId": "python"
    }
   },
   "outputs": [],
   "source": [
    "matrix(K, [[1, 1, 1], [1, 2, 4], [1, 4, 1]]).det()"
   ]
  },
  {
   "cell_type": "code",
   "execution_count": null,
   "id": "6415fc7b",
   "metadata": {
    "vscode": {
     "languageId": "python"
    }
   },
   "outputs": [],
   "source": [
    "K.<a> = GF(4^2, \"a\")\n",
    "K_sub = K.subfield(2, \"b\")\n",
    "b, = K_sub.gens()\n",
    "\n",
    "for c in K.list():\n",
    "    G0 = matrix.vandermonde(vector(K, (0, 1, b, b + 1, c))).T[:3]\n",
    "\n",
    "    X = matrix([[0, 0], [a, 0], [1, a]])\n",
    "    \n",
    "    if satisfies_condition(G0, X):\n",
    "        print(c)"
   ]
  },
  {
   "cell_type": "code",
   "execution_count": null,
   "id": "65cc87ed",
   "metadata": {
    "vscode": {
     "languageId": "python"
    }
   },
   "outputs": [],
   "source": [
    "help(K.subfield)"
   ]
  },
  {
   "cell_type": "code",
   "execution_count": null,
   "id": "320d594c",
   "metadata": {
    "vscode": {
     "languageId": "python"
    }
   },
   "outputs": [],
   "source": [
    "K.<a> = GF(9, \"a\")"
   ]
  },
  {
   "cell_type": "code",
   "execution_count": null,
   "id": "931e1eb6",
   "metadata": {
    "vscode": {
     "languageId": "python"
    }
   },
   "outputs": [],
   "source": [
    "a.minimal_polynomial()"
   ]
  },
  {
   "cell_type": "code",
   "execution_count": null,
   "id": "b3e06dec",
   "metadata": {
    "vscode": {
     "languageId": "python"
    }
   },
   "outputs": [],
   "source": [
    "a = [1..5]\n",
    "a.remove(2)"
   ]
  },
  {
   "cell_type": "code",
   "execution_count": null,
   "id": "59f7df2c",
   "metadata": {
    "vscode": {
     "languageId": "python"
    }
   },
   "outputs": [],
   "source": [
    "a"
   ]
  },
  {
   "cell_type": "code",
   "execution_count": null,
   "id": "fac94824",
   "metadata": {
    "vscode": {
     "languageId": "python"
    }
   },
   "outputs": [],
   "source": [
    "K.<a> = GF(11^2, \"a\")\n",
    "K_sub = K.subfield(1)\n",
    "\n",
    "R = PolynomialRing(K, 2, 2, var_array=\"x\")\n",
    "x = list(R.gens())\n",
    "X = matrix([[0, 0], [x[0], 0], [x[2], x[3]]])\n",
    "\n",
    "G0 = vandermonde_matrix(K_sub, 3, 5)"
   ]
  },
  {
   "cell_type": "code",
   "execution_count": null,
   "id": "7b4f4ee2",
   "metadata": {
    "vscode": {
     "languageId": "python"
    }
   },
   "outputs": [],
   "source": [
    "P = minor_product_polynomial(G0, X)"
   ]
  },
  {
   "cell_type": "code",
   "execution_count": null,
   "id": "148a5b61",
   "metadata": {
    "vscode": {
     "languageId": "python"
    }
   },
   "outputs": [],
   "source": [
    "create_generator_matrix(G0, X)"
   ]
  },
  {
   "cell_type": "code",
   "execution_count": null,
   "id": "2525b4a7",
   "metadata": {
    "vscode": {
     "languageId": "python"
    }
   },
   "outputs": [],
   "source": [
    "P.degrees()"
   ]
  },
  {
   "cell_type": "code",
   "execution_count": null,
   "id": "43956f84",
   "metadata": {
    "vscode": {
     "languageId": "python"
    }
   },
   "outputs": [],
   "source": [
    "[(minor_product_polynomial_individual_degree_standard_form(n, n - 2), minor_product_polynomial_degree(n, n - 2) / (2.0*(n - 2)), n^2) for n in (4..20)]"
   ]
  },
  {
   "cell_type": "code",
   "execution_count": null,
   "id": "685131e2",
   "metadata": {
    "vscode": {
     "languageId": "python"
    }
   },
   "outputs": [],
   "source": [
    "minor_product_polynomial_individual_degree_standard_form(7, 4)"
   ]
  },
  {
   "cell_type": "code",
   "execution_count": null,
   "id": "9dbe287f",
   "metadata": {
    "vscode": {
     "languageId": "python"
    }
   },
   "outputs": [],
   "source": [
    "minor_product_polynomial_degree(7, 4) / (4*3) * 1.0"
   ]
  },
  {
   "cell_type": "code",
   "execution_count": null,
   "id": "ae51268f",
   "metadata": {
    "vscode": {
     "languageId": "python"
    }
   },
   "outputs": [],
   "source": []
  }
 ],
 "metadata": {
  "kernelspec": {
   "display_name": "SageMath 9.0",
   "language": "sage",
   "name": "sagemath"
  },
  "language_info": {
   "codemirror_mode": {
    "name": "ipython",
    "version": 3
   },
   "file_extension": ".py",
   "mimetype": "text/x-python",
   "name": "sage",
   "nbconvert_exporter": "python",
   "pygments_lexer": "ipython3",
   "version": "3.8.10"
  }
 },
 "nbformat": 4,
 "nbformat_minor": 5
}
