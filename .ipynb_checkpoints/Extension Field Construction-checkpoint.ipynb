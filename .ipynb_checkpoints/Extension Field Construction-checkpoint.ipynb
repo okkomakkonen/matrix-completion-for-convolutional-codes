{
 "cells": [
  {
   "cell_type": "markdown",
   "id": "3a14c1a0",
   "metadata": {},
   "source": [
    "# Matrix Completion for MDP Convolutional Codes\n",
    "\n",
    "This notebook has some useful functions for playing around with using ideas from matrix completion to construct MDP convolutional codes. The following cells contain some methods for creating the sliding truncated generator matrices and their associated _minor product polynomials_."
   ]
  },
  {
   "cell_type": "code",
   "execution_count": 36,
   "id": "f5480c65",
   "metadata": {},
   "outputs": [],
   "source": [
    "from itertools import combinations\n",
    "\n",
    "def create_generator_matrix(G0, X=None):\n",
    "    \"\"\"\n",
    "    Create the generator matrix using G0 and X\n",
    "    \n",
    "    If X is not specified, it is set to contain indeterminates.\n",
    "    \"\"\"\n",
    "    \n",
    "    k, n = G0.dimensions()\n",
    "    K = G0.base_ring()\n",
    "    \n",
    "    # if X is not provided, then it is set to contain k(n - k) indeterminates\n",
    "    # the indexing here is zero based\n",
    "    if X is None and k < n:\n",
    "        R = PolynomialRing(K, k, (n - k), var_array=\"x\")\n",
    "        x = R.gens()\n",
    "        X = matrix([x[i:i + n - k] for i in range(0, k * (n - k), n - k)])\n",
    "    \n",
    "    if k < n:\n",
    "        G1 = block_matrix([[X, zero_matrix(k, k)]])\n",
    "    else:\n",
    "        G1 = zero_matrix(k, k)\n",
    "    \n",
    "    G = block_matrix([[G0, G1], [0, G0]])\n",
    "    \n",
    "    return G\n",
    "    \n",
    "def minor_product_polynomial(G0, X=None):\n",
    "    \"\"\"\n",
    "    Compute the value of the minor product polynomial for G0 at X\n",
    "    \n",
    "    If X is not specified, it is set to contain indeterminates.\n",
    "    \"\"\"\n",
    "    \n",
    "    k, n = G0.dimensions()\n",
    "    G = create_generator_matrix(G0, X)\n",
    "    P = 1\n",
    "    \n",
    "    for i in range(k + 1):\n",
    "        for j in range(k, n + 1):\n",
    "            if i + j != 2*k:\n",
    "                continue\n",
    "            \n",
    "            for I in combinations(range(n), i):\n",
    "                for J in combinations(range(n, 2*n), j):\n",
    "                    \n",
    "                    # combine I and J as a union\n",
    "                    S = I + J\n",
    "                    M = G[:, S]\n",
    "                    P *= M.det()\n",
    "                    \n",
    "    return P\n",
    "\n",
    "def minor_product_polynomial_degree(n, k):\n",
    "    \"\"\"Compute the degree of the minor product polynomial for any k x n MDS matrix G0\"\"\"\n",
    "    \n",
    "    assert 0 <= k <= n\n",
    "    \n",
    "    d = 0\n",
    "    for i in range(k + 1):\n",
    "        for j in range(k, n + 1):\n",
    "                if i + j != 2*k:\n",
    "                    continue\n",
    "                \n",
    "                d += binomial(n, i) * binomial(n, j) * (j - k)\n",
    "    \n",
    "    return d\n",
    "\n",
    "def minor_product_polynomial_individual_degree(n, k):\n",
    "    \"\"\"\n",
    "    Compute (an upper bound on) the individual degree of any variable\n",
    "    in the minor product polynomial of any k x n MDS matrix G0\n",
    "    \"\"\"\n",
    "    \n",
    "    assert 0 <= k <= n\n",
    "    \n",
    "    d = 0\n",
    "    for i in range(k):\n",
    "        for j in range(k + 1, n + 1):\n",
    "                if i + j != 2*k:\n",
    "                    continue\n",
    "\n",
    "                d += binomial(n, i) * binomial(n - 1, j - 1)\n",
    "\n",
    "    return d\n",
    "\n",
    "def minor_product_polynomial_individual_degree_standard_form(n, k):\n",
    "    \"\"\"\n",
    "    Compute (an upper bound on) the individual degree of any variable\n",
    "    in the minor product polynomial of any k x n MDS matrix G0 that is\n",
    "    in standard form\n",
    "    \"\"\"\n",
    "    \n",
    "    assert 0 <= k <= n\n",
    "    \n",
    "    d = 0\n",
    "    for i in range(k):\n",
    "        for j in range(k + 1, n + 1):\n",
    "                if i + j != 2*k:\n",
    "                    continue\n",
    "\n",
    "                d += binomial(n - 1, i) * binomial(n - 1, j - 1)\n",
    "\n",
    "    return d\n",
    "\n",
    "def print_minors(G0):\n",
    "    \"\"\"Compute the degree of the minor product polynomial for MDS matrix G0\"\"\"\n",
    "    \n",
    "    k, n = G0.dimensions()\n",
    "    G = create_generator_matrix(G0)\n",
    "    \n",
    "    print(G)\n",
    "    print()\n",
    "    \n",
    "    for i in range(k + 1):\n",
    "        for j in range(k, n + 1):\n",
    "            if i + j != 2*k:\n",
    "                continue\n",
    "            \n",
    "            for I in combinations(range(n), i):\n",
    "                for J in combinations(range(n, 2*n), j):\n",
    "                    \n",
    "                    S = I + J\n",
    "                    M = G[:, S]\n",
    "                    \n",
    "                    # do sanity checks\n",
    "                    assert M.det().degree() == j - k\n",
    "                    assert M.det().is_homogeneous()\n",
    "                    \n",
    "                    print(f\"{I} + {J}: {M.det()}\")\n",
    "                    \n",
    "def satisfies_condition(G0, X, verbose=False, stop=True):\n",
    "    \"\"\"\n",
    "    Check if G0 and X satisfy the condition for MDP convolutional codes\n",
    "    \n",
    "    `satisfies_condition(G0, X)` is equivalent to\n",
    "    `minor_product_polynomial(G0, X) != 0`, but should be significantly faster\n",
    "    \"\"\"\n",
    "    \n",
    "    k, n = G0.dimensions()\n",
    "    G = create_generator_matrix(G0, X)\n",
    "    \n",
    "    works = True\n",
    "    \n",
    "    for i in range(k + 1):\n",
    "        for j in range(k, n + 1):\n",
    "            if i + j != 2*k:\n",
    "                continue\n",
    "            \n",
    "            for I in combinations(range(n), i):\n",
    "                for J in combinations(range(n, 2*n), j):\n",
    "                    \n",
    "                    S = I + J\n",
    "                    M = G[:, S]\n",
    "                    if M.rank() != 2*k:\n",
    "                        \n",
    "                        works = False\n",
    "                        \n",
    "                        if verbose:\n",
    "                            print(\"The submatrix on columns\", S, \"is not invertible\")\n",
    "                        \n",
    "                        if stop:\n",
    "                            return works\n",
    "                    \n",
    "    return works\n",
    "\n",
    "def find_random_solution(G0, num_tries=10_000, seed=1):\n",
    "    \"\"\"\n",
    "    Find a solution for X by using random sampling\n",
    "    \n",
    "    This will only do 10,000 tries before raising an exception.\n",
    "    The random seed is set so that it produces reproducible results.\n",
    "    \"\"\"\n",
    "    \n",
    "    set_random_seed(seed)\n",
    "    \n",
    "    k, n = G0.dimensions()\n",
    "    K = G0.base_ring()\n",
    "\n",
    "    for _ in range(num_tries):\n",
    "\n",
    "        X = random_matrix(K, k, (n - k))\n",
    "\n",
    "        if satisfies_condition(G0, X):\n",
    "            G = create_generator_matrix(G0, X)\n",
    "            return G\n",
    "    \n",
    "    raise Exception(f\"did not find a solution in {num_tries} tries\")\n",
    "    \n",
    "def find_solution(G0, K=None):\n",
    "    \"\"\"Find a solution for X by going through all possibilities\"\"\"\n",
    "    \n",
    "    k, n = G0.dimensions()\n",
    "    if K is None:\n",
    "        K = G0.base_ring()\n",
    "\n",
    "    for X in MatrixSpace(K, k, (n - k)):\n",
    "\n",
    "        if satisfies_condition(G0, X):\n",
    "            G = create_generator_matrix(G0, X)\n",
    "            return G\n",
    "    \n",
    "    raise Exception(f\"solution does not exist over this field\")\n",
    "    \n",
    "def print_all_solutions(G0, K=None):\n",
    "    \"\"\"Print all solutions for X by going through all possibilities\"\"\"\n",
    "    \n",
    "    k, n = G0.dimensions()\n",
    "    if K is None:\n",
    "        K = G0.base_ring()\n",
    "\n",
    "    found = False\n",
    "    for X in MatrixSpace(K, k, (n - k)):\n",
    "\n",
    "        if satisfies_condition(G0, X):\n",
    "            G = create_generator_matrix(G0, X)\n",
    "            found = True\n",
    "            print(G)\n",
    "            print()\n",
    "            \n",
    "    if not found:       \n",
    "        print(\"finished without finding any solutions\")"
   ]
  },
  {
   "cell_type": "code",
   "execution_count": 7,
   "id": "4775e10e",
   "metadata": {},
   "outputs": [],
   "source": [
    "def cauchy_matrix(K, n, m):\n",
    "    \"\"\"\n",
    "    Create a n x m Cauchy matrix over the field K\n",
    "    \n",
    "    The field K has to have at least n + m elements.\n",
    "    \"\"\"\n",
    "    \n",
    "    assert K.order() >= n + m\n",
    "    \n",
    "    return matrix(n, m, lambda i, j: 1 / (K.list()[i] - K.list()[-j - 1]))\n",
    "\n",
    "def vandermonde_matrix(K, n, m):\n",
    "    \"\"\"\n",
    "    Create a n x m Vandermonde matrix over the field K\n",
    "    \n",
    "    The field K has to have at least m elements.\n",
    "    \"\"\"\n",
    "    \n",
    "    assert K.order() >= m\n",
    "    \n",
    "    return matrix.vandermonde(K.list()[:m]).T[:n]\n",
    "\n",
    "def random_mds_matrix(K, n, m):\n",
    "    \n",
    "    while True:\n",
    "        G = random_matrix(K, n, m)\n",
    "        if is_mds(G):\n",
    "            return G\n",
    "        \n",
    "def random_systematic_mds_matrix(K, n, m):\n",
    "    \n",
    "    while True:\n",
    "        P = random_matrix(K, n, m - n)\n",
    "        G = block_matrix([[identity_matrix(n, n), P]])\n",
    "        if is_mds(G):\n",
    "            return G\n",
    "\n",
    "def is_mds(G):\n",
    "    \"\"\"Check if the matrix generates an MDS code\"\"\"\n",
    "    \n",
    "    C = LinearCode(G)\n",
    "    \n",
    "    return C.minimum_distance() == C.length() - C.dimension() + 1"
   ]
  },
  {
   "cell_type": "markdown",
   "id": "51df11a0",
   "metadata": {},
   "source": [
    "## Minor product polynomial\n",
    "\n",
    "The next example shows how to compute the minor product polynomial for a very simple case."
   ]
  },
  {
   "cell_type": "code",
   "execution_count": 3,
   "id": "cc36b0e0",
   "metadata": {},
   "outputs": [
    {
     "name": "stdout",
     "output_type": "stream",
     "text": [
      "-2*x00^2*x10 - 2*x00*x10^2 - x10^3\n"
     ]
    }
   ],
   "source": [
    "n, k = 3, 2\n",
    "K = GF(5)\n",
    "\n",
    "G0 = vandermonde_matrix(K, k, n)\n",
    "P = minor_product_polynomial(G0)\n",
    "\n",
    "print(P)"
   ]
  },
  {
   "cell_type": "markdown",
   "id": "ba8a1852",
   "metadata": {},
   "source": [
    "## Degree of minor product polynomial\n",
    "\n",
    "With the below cell we can verify that the degree of the minor product polynomial is the same for the dual code dimension."
   ]
  },
  {
   "cell_type": "code",
   "execution_count": 4,
   "id": "24e88313",
   "metadata": {},
   "outputs": [
    {
     "name": "stdout",
     "output_type": "stream",
     "text": [
      "The (individual) degree of the minor product polynomial is the same for the dual dimension\n"
     ]
    }
   ],
   "source": [
    "for n in range(1, 20):\n",
    "    for k in range(n + 1):\n",
    "        assert minor_product_polynomial_degree(n, k) == minor_product_polynomial_degree(n, n - k)\n",
    "        assert minor_product_polynomial_individual_degree_standard_form(n, k) == minor_product_polynomial_individual_degree_standard_form(n, n - k)\n",
    "        \n",
    "print(\"The (individual) degree of the minor product polynomial is the same for the dual dimension\")"
   ]
  },
  {
   "cell_type": "markdown",
   "id": "b3d83541",
   "metadata": {},
   "source": [
    "## Minors are nonzero\n",
    "\n",
    "The following cells show that the minor polynomials are nonzero by choosing a suitable evaluation."
   ]
  },
  {
   "cell_type": "code",
   "execution_count": 5,
   "id": "a702a4e9",
   "metadata": {},
   "outputs": [
    {
     "name": "stdout",
     "output_type": "stream",
     "text": [
      "Defining x00, x01, x02, x10, x11, x12, x20, x21, x22\n",
      "[  1 x00 x01 x02   0   0]\n",
      "[ -8 x10 x11 x12   0   0]\n",
      "[  6 x20 x21 x22   0   0]\n",
      "[  0   1  -8   6  -4   7]\n",
      "[  0  -8   6  -4   7   3]\n",
      "[  0   6  -4   7   3   5]\n",
      "-8*x01*x10 - 8*x02*x10 + 8*x00*x11 - 4*x02*x11 + 8*x00*x12 + 4*x01*x12 - 5*x01*x20 - 5*x02*x20 - 7*x11*x20 - 7*x12*x20 + 5*x00*x21 + 6*x02*x21 + 7*x10*x21 + 5*x12*x21 + 5*x00*x22 - 6*x01*x22 + 7*x10*x22 - 5*x11*x22\n"
     ]
    }
   ],
   "source": [
    "# create one of the 2k x 2k submatrices, denoted by M, and compute its determinant\n",
    "n, k = 6, 3\n",
    "K = GF(17)\n",
    "\n",
    "G0 = cauchy_matrix(K, k, n)\n",
    "\n",
    "G = create_generator_matrix(G0)\n",
    "M = G[:, [0, 6, 7, 8, 9, 10]]\n",
    "M.base_ring().inject_variables()\n",
    "print(M)\n",
    "print(M.det())"
   ]
  },
  {
   "cell_type": "code",
   "execution_count": 6,
   "id": "1f34d1c2",
   "metadata": {},
   "outputs": [
    {
     "name": "stdout",
     "output_type": "stream",
     "text": [
      "[ 1  1  0  0  0  0]\n",
      "[-8  0  1  0  0  0]\n",
      "[ 6  0  0  0  0  0]\n",
      "[ 0  1 -8  6 -4  7]\n",
      "[ 0 -8  6 -4  7  3]\n",
      "[ 0  6 -4  7  3  5]\n",
      "8\n"
     ]
    }
   ],
   "source": [
    "# the following evaluation shows that the polynomial M.det() is nonzero\n",
    "M_eval = M.subs({x00: 1, x01: 0, x02: 0, x10: 0, x11: 1, x12: 0, x20: 0, x21: 0, x22: 0})\n",
    "print(M_eval)\n",
    "print(M_eval.det())"
   ]
  },
  {
   "cell_type": "markdown",
   "id": "77bc03fb",
   "metadata": {},
   "source": [
    "## Required field size\n",
    "\n",
    "The next cells show how large the field size needs to be for some small parameters."
   ]
  },
  {
   "cell_type": "code",
   "execution_count": 13,
   "id": "d59aa7ce",
   "metadata": {},
   "outputs": [
    {
     "name": "stdout",
     "output_type": "stream",
     "text": [
      "[n, k] : degree of polynomial -> upper bound on individual degree -> individual degree if G0 is in standard form\n",
      "\n",
      "[2, 1] : 1 -> 1 -> 1\n",
      "\n",
      "[3, 1] : 3 -> 2 -> 2\n",
      "[3, 2] : 3 -> 2 -> 2\n",
      "\n",
      "[4, 1] : 6 -> 3 -> 2\n",
      "[4, 2] : 18 -> 10 -> 5\n",
      "[4, 3] : 6 -> 3 -> 2\n",
      "\n",
      "[5, 1] : 10 -> 4 -> 3\n",
      "[5, 2] : 60 -> 28 -> 10\n",
      "[5, 3] : 60 -> 28 -> 10\n",
      "[5, 4] : 10 -> 4 -> 3\n",
      "\n",
      "[6, 1] : 15 -> 5 -> 3\n",
      "[6, 2] : 150 -> 60 -> 19\n",
      "[6, 3] : 300 -> 126 -> 34\n",
      "[6, 4] : 150 -> 60 -> 19\n",
      "[6, 5] : 15 -> 5 -> 3\n",
      "\n",
      "[7, 1] : 21 -> 6 -> 4\n",
      "[7, 2] : 315 -> 110 -> 32\n",
      "[7, 3] : 1050 -> 396 -> 88\n",
      "[7, 4] : 1050 -> 396 -> 88\n",
      "[7, 5] : 315 -> 110 -> 32\n",
      "[7, 6] : 21 -> 6 -> 4\n",
      "\n",
      "[8, 1] : 28 -> 7 -> 4\n",
      "[8, 2] : 588 -> 182 -> 49\n",
      "[8, 3] : 2940 -> 1001 -> 196\n",
      "[8, 4] : 4900 -> 1716 -> 307\n",
      "[8, 5] : 2940 -> 1001 -> 196\n",
      "[8, 6] : 588 -> 182 -> 49\n",
      "[8, 7] : 28 -> 7 -> 4\n",
      "\n",
      "[9, 1] : 36 -> 8 -> 5\n",
      "[9, 2] : 1008 -> 280 -> 72\n",
      "[9, 3] : 7056 -> 2184 -> 392\n",
      "[9, 4] : 17640 -> 5720 -> 882\n",
      "[9, 5] : 17640 -> 5720 -> 882\n",
      "[9, 6] : 7056 -> 2184 -> 392\n",
      "[9, 7] : 1008 -> 280 -> 72\n",
      "[9, 8] : 36 -> 8 -> 5\n",
      "\n"
     ]
    }
   ],
   "source": [
    "print(\"[n, k] : degree of polynomial -> upper bound on individual degree -> individual degree if G0 is in standard form\")\n",
    "print()\n",
    "\n",
    "for n in range(2, 10):\n",
    "    for k in range(1, n):\n",
    "        print(f\"[{n}, {k}] :\",\n",
    "              minor_product_polynomial_degree(n, k),\n",
    "              \"->\",\n",
    "              minor_product_polynomial_individual_degree_standard_form(n, k),\n",
    "              \"->\",\n",
    "              ceil(minor_product_polynomial_degree(n, k) / (k * (n - k)))\n",
    "             )\n",
    "    print()"
   ]
  },
  {
   "cell_type": "code",
   "execution_count": 43,
   "id": "532692ca",
   "metadata": {},
   "outputs": [
    {
     "name": "stdout",
     "output_type": "stream",
     "text": [
      "[ 1  0 18 17 16 15]\n",
      "[ 0  1  2  3  4  5]\n"
     ]
    }
   ],
   "source": [
    "n, k = 6, 2\n",
    "q = 19\n",
    "K = GF(q)\n",
    "\n",
    "G0 = vandermonde_matrix(K, k, n).rref()\n",
    "\n",
    "print(G0)"
   ]
  },
  {
   "cell_type": "code",
   "execution_count": 45,
   "id": "8a7b0149",
   "metadata": {},
   "outputs": [
    {
     "name": "stdout",
     "output_type": "stream",
     "text": [
      "[ 1  0 18 17 16 15| 0  0 16 16  9  3]\n",
      "[ 0  1  2  3  4  5| 0  0  3 16 17  8]\n",
      "[-----------------+-----------------]\n",
      "[ 0  0  0  0  0  0| 1  0 18 17 16 15]\n",
      "[ 0  0  0  0  0  0| 0  1  2  3  4  5]\n"
     ]
    }
   ],
   "source": [
    "G = find_random_solution(G0, seed=None)\n",
    "\n",
    "print(G)"
   ]
  },
  {
   "cell_type": "code",
   "execution_count": 5,
   "id": "bbef2271",
   "metadata": {},
   "outputs": [
    {
     "name": "stdout",
     "output_type": "stream",
     "text": [
      "[      2     2*a 2*a + 2   a + 2       1]\n",
      "[      a       1     2*a 2*a + 1 2*a + 2]\n",
      "[  a + 2       2   a + 1     2*a       a]\n"
     ]
    }
   ],
   "source": [
    "n, k = 5, 3\n",
    "q = 9\n",
    "K.<a> = GF(q, \"a\")\n",
    "\n",
    "G0 = cauchy_matrix(K, k, n)\n",
    "\n",
    "print(G0)"
   ]
  },
  {
   "cell_type": "code",
   "execution_count": 6,
   "id": "bf5149e9",
   "metadata": {
    "scrolled": false
   },
   "outputs": [
    {
     "name": "stdout",
     "output_type": "stream",
     "text": [
      "[      2     2*a 2*a + 2   a + 2       1|    2*a       a       0       0       0]\n",
      "[      a       1     2*a 2*a + 1 2*a + 2|2*a + 1     2*a       0       0       0]\n",
      "[  a + 2       2   a + 1     2*a       a|      a   a + 1       0       0       0]\n",
      "[---------------------------------------+---------------------------------------]\n",
      "[      0       0       0       0       0|      2     2*a 2*a + 2   a + 2       1]\n",
      "[      0       0       0       0       0|      a       1     2*a 2*a + 1 2*a + 2]\n",
      "[      0       0       0       0       0|  a + 2       2   a + 1     2*a       a]\n"
     ]
    }
   ],
   "source": [
    "G = find_solution(G0)\n",
    "\n",
    "print(G)"
   ]
  },
  {
   "cell_type": "code",
   "execution_count": 7,
   "id": "f9a31eed",
   "metadata": {},
   "outputs": [
    {
     "data": {
      "text/plain": [
       "\\left(\\begin{array}{rrrrr|rrrrr}\n",
       "2 & 2 a & 2 a + 2 & a + 2 & 1 & 2 a & a & 0 & 0 & 0 \\\\\n",
       "a & 1 & 2 a & 2 a + 1 & 2 a + 2 & 2 a + 1 & 2 a & 0 & 0 & 0 \\\\\n",
       "a + 2 & 2 & a + 1 & 2 a & a & a & a + 1 & 0 & 0 & 0 \\\\\n",
       "\\hline\n",
       " 0 & 0 & 0 & 0 & 0 & 2 & 2 a & 2 a + 2 & a + 2 & 1 \\\\\n",
       "0 & 0 & 0 & 0 & 0 & a & 1 & 2 a & 2 a + 1 & 2 a + 2 \\\\\n",
       "0 & 0 & 0 & 0 & 0 & a + 2 & 2 & a + 1 & 2 a & a\n",
       "\\end{array}\\right)"
      ]
     },
     "execution_count": 7,
     "metadata": {},
     "output_type": "execute_result"
    }
   ],
   "source": [
    "latex(G)"
   ]
  },
  {
   "cell_type": "markdown",
   "id": "8f2c2cec",
   "metadata": {},
   "source": [
    "## Other ideas"
   ]
  },
  {
   "cell_type": "code",
   "execution_count": 46,
   "id": "38487d16",
   "metadata": {},
   "outputs": [
    {
     "data": {
      "text/plain": [
       "[  1   0   0   1   3|  0   0   0 x00 x01]\n",
       "[  0   1   0  -3   3|  0   0   0 x10 x11]\n",
       "[  0   0   1   3  -5|  0   0   0 x20 x21]\n",
       "[-------------------+-------------------]\n",
       "[  0   0   0   0   0|  1   0   0   1   3]\n",
       "[  0   0   0   0   0|  0   1   0  -3   3]\n",
       "[  0   0   0   0   0|  0   0   1   3  -5]"
      ]
     },
     "execution_count": 46,
     "metadata": {},
     "output_type": "execute_result"
    }
   ],
   "source": [
    "n, k = 5, 3\n",
    "K = GF(11)\n",
    "\n",
    "G0 = vandermonde_matrix(K, k, n).rref()\n",
    "\n",
    "create_generator_matrix(G0)"
   ]
  },
  {
   "cell_type": "code",
   "execution_count": 47,
   "id": "6c0fa142",
   "metadata": {},
   "outputs": [],
   "source": [
    "P = minor_product_polynomial(G0)"
   ]
  },
  {
   "cell_type": "code",
   "execution_count": 22,
   "id": "4622f23c",
   "metadata": {},
   "outputs": [
    {
     "name": "stdout",
     "output_type": "stream",
     "text": [
      "(28, 28, 28, 28, 28, 28)\n"
     ]
    }
   ],
   "source": [
    "print(P.degrees())"
   ]
  },
  {
   "cell_type": "code",
   "execution_count": null,
   "id": "0fdc1b98",
   "metadata": {},
   "outputs": [],
   "source": [
    "best = None\n",
    "\n",
    "for e in P.exponents():\n",
    "    if best is None:\n",
    "        best = e\n",
    "    else:\n",
    "        best = min(best, e, key=max)\n",
    "\n",
    "print(best)"
   ]
  },
  {
   "cell_type": "code",
   "execution_count": 49,
   "id": "b2b365b4",
   "metadata": {
    "scrolled": false
   },
   "outputs": [
    {
     "data": {
      "text/plain": [
       "True"
      ]
     },
     "execution_count": 49,
     "metadata": {},
     "output_type": "execute_result"
    }
   ],
   "source": [
    "P.is_squarefree()"
   ]
  },
  {
   "cell_type": "code",
   "execution_count": null,
   "id": "6fa9ca4e",
   "metadata": {},
   "outputs": [],
   "source": [
    "n, k = 5, 3\n",
    "K = GF(11)\n",
    "\n",
    "for _ in range(30):\n",
    "\n",
    "    G0 = random_systematic_mds_matrix(K, k, n)\n",
    "    \n",
    "    P = minor_product_polynomial(G0)\n",
    "    \n",
    "    print(G0, len(P.exponents()))"
   ]
  },
  {
   "cell_type": "code",
   "execution_count": null,
   "id": "ac51f7d2",
   "metadata": {},
   "outputs": [],
   "source": [
    "G = block_matrix([[identity_matrix(2, 2), identity_matrix(2, 2)]], subdivide=False)"
   ]
  },
  {
   "cell_type": "code",
   "execution_count": null,
   "id": "b27a9986",
   "metadata": {},
   "outputs": [],
   "source": [
    "G"
   ]
  },
  {
   "cell_type": "code",
   "execution_count": null,
   "id": "8a1b59c4",
   "metadata": {},
   "outputs": [],
   "source": []
  },
  {
   "cell_type": "code",
   "execution_count": 146,
   "id": "70fe3700",
   "metadata": {},
   "outputs": [
    {
     "data": {
      "text/plain": [
       "True"
      ]
     },
     "execution_count": 146,
     "metadata": {},
     "output_type": "execute_result"
    }
   ],
   "source": [
    "n = 5\n",
    "k = n - 2\n",
    "\n",
    "assert is_prime(n)\n",
    "\n",
    "K.<a> = GF(n^2, \"a\")\n",
    "\n",
    "G0 = matrix.vandermonde(vector(K, (0..n-1))).T[:k]\n",
    "\n",
    "x = a\n",
    "\n",
    "X = matrix([[0, 0]]*(k - 2) + [[x, 0], [1, x]])\n",
    "\n",
    "satisfies_condition(G0, X, verbose=True, stop=False)"
   ]
  },
  {
   "cell_type": "code",
   "execution_count": 147,
   "id": "13945d33",
   "metadata": {},
   "outputs": [
    {
     "data": {
      "text/plain": [
       "[1 1 1 1 1|0 0 0 0 0]\n",
       "[0 1 2 3 4|a 0 0 0 0]\n",
       "[0 1 4 4 1|1 a 0 0 0]\n",
       "[---------+---------]\n",
       "[0 0 0 0 0|1 1 1 1 1]\n",
       "[0 0 0 0 0|0 1 2 3 4]\n",
       "[0 0 0 0 0|0 1 4 4 1]"
      ]
     },
     "execution_count": 147,
     "metadata": {},
     "output_type": "execute_result"
    }
   ],
   "source": [
    "G = create_generator_matrix(G0, X); G"
   ]
  },
  {
   "cell_type": "code",
   "execution_count": 148,
   "id": "7d31c27c",
   "metadata": {},
   "outputs": [
    {
     "name": "stdout",
     "output_type": "stream",
     "text": [
      "[1 0 0 0 0 0]\n",
      "[1 a 0 0 0 0]\n",
      "[1 1 a 0 0 0]\n",
      "[0 1 1 1 1 1]\n",
      "[0 0 1 2 3 4]\n",
      "[0 0 1 4 4 1]\n",
      "2*a + 1\n"
     ]
    }
   ],
   "source": [
    "M = G[:, (1, 5, 6, 7, 8, 9)]; print(M); print(M.det())"
   ]
  },
  {
   "cell_type": "code",
   "execution_count": 150,
   "id": "1fd7c36e",
   "metadata": {},
   "outputs": [
    {
     "name": "stdout",
     "output_type": "stream",
     "text": [
      "[1 0 0 0 0]\n",
      "[1 a 0 0 0]\n",
      "[0 1 1 1 1]\n",
      "[0 1 2 3 4]\n",
      "[0 1 4 4 1]\n"
     ]
    },
    {
     "data": {
      "text/plain": [
       "2*a"
      ]
     },
     "execution_count": 150,
     "metadata": {},
     "output_type": "execute_result"
    }
   ],
   "source": [
    "minor(M, 1, 1, verbose=True)"
   ]
  },
  {
   "cell_type": "code",
   "execution_count": 137,
   "id": "d66a65f2",
   "metadata": {},
   "outputs": [
    {
     "name": "stdout",
     "output_type": "stream",
     "text": [
      "[1 1 1 0 0 0 0 0 0]\n",
      "[0 2 4 0 0 0 0 0 0]\n",
      "[0 1 1 a 0 0 0 0 0]\n",
      "[0 2 4 1 a 0 0 0 0]\n",
      "[0 0 0 1 1 1 1 1 1]\n",
      "[0 0 0 0 1 2 3 5 6]\n",
      "[0 0 0 0 1 4 2 4 1]\n",
      "[0 0 0 0 1 1 6 6 6]\n",
      "[0 0 0 0 1 2 4 2 1]\n"
     ]
    },
    {
     "data": {
      "text/plain": [
       "6*a + 1"
      ]
     },
     "execution_count": 137,
     "metadata": {},
     "output_type": "execute_result"
    }
   ],
   "source": [
    "minor(M, 2, 1, verbose=True)"
   ]
  },
  {
   "cell_type": "code",
   "execution_count": 138,
   "id": "de2936b5",
   "metadata": {},
   "outputs": [
    {
     "name": "stdout",
     "output_type": "stream",
     "text": [
      "[1 1 1 0 0 0 0 0 0]\n",
      "[0 1 4 0 0 0 0 0 0]\n",
      "[0 1 1 a 0 0 0 0 0]\n",
      "[0 1 4 1 a 0 0 0 0]\n",
      "[0 0 0 1 1 1 1 1 1]\n",
      "[0 0 0 0 1 2 3 5 6]\n",
      "[0 0 0 0 1 4 2 4 1]\n",
      "[0 0 0 0 1 1 6 6 6]\n",
      "[0 0 0 0 1 2 4 2 1]\n"
     ]
    },
    {
     "data": {
      "text/plain": [
       "2*a + 5"
      ]
     },
     "execution_count": 138,
     "metadata": {},
     "output_type": "execute_result"
    }
   ],
   "source": [
    "minor(M, 2, 2, verbose=True)"
   ]
  },
  {
   "cell_type": "code",
   "execution_count": 135,
   "id": "902d7296",
   "metadata": {},
   "outputs": [],
   "source": [
    "def minor(M, i, j, verbose=False):\n",
    "    r, c = M.dimensions()\n",
    "    \n",
    "    rows = [0..r-1]\n",
    "    rows.remove(i)\n",
    "    columns = [0..c-1]\n",
    "    columns.remove(j)\n",
    "    \n",
    "    if verbose:\n",
    "        print(M[rows, columns])\n",
    "    \n",
    "    return M[rows, columns].det()"
   ]
  },
  {
   "cell_type": "code",
   "execution_count": 35,
   "id": "6dc845f9",
   "metadata": {},
   "outputs": [
    {
     "data": {
      "text/plain": [
       "[2 4]\n",
       "[4 1]"
      ]
     },
     "execution_count": 35,
     "metadata": {},
     "output_type": "execute_result"
    }
   ],
   "source": [
    "matrix(GF(5), [[2, 4], [4, 1]])"
   ]
  },
  {
   "cell_type": "code",
   "execution_count": 118,
   "id": "52b8a5ce",
   "metadata": {},
   "outputs": [
    {
     "data": {
      "text/plain": [
       "1"
      ]
     },
     "execution_count": 118,
     "metadata": {},
     "output_type": "execute_result"
    }
   ],
   "source": [
    "matrix(K, [[1, 1, 1], [1, 2, 4], [1, 4, 1]]).det()"
   ]
  },
  {
   "cell_type": "code",
   "execution_count": 72,
   "id": "593f7b70",
   "metadata": {},
   "outputs": [
    {
     "name": "stdout",
     "output_type": "stream",
     "text": [
      "a^2\n"
     ]
    }
   ],
   "source": [
    "K.<a> = GF(4^2, \"a\")\n",
    "K_sub = K.subfield(2, \"b\")\n",
    "b, = K_sub.gens()\n",
    "\n",
    "for c in K.list():\n",
    "    G0 = matrix.vandermonde(vector(K, (0, 1, b, b + 1, c))).T[:3]\n",
    "\n",
    "    X = matrix([[0, 0], [a, 0], [1, a]])\n",
    "    \n",
    "    if satisfies_condition(G0, X):\n",
    "        print(c)"
   ]
  },
  {
   "cell_type": "code",
   "execution_count": 83,
   "id": "6fc68b6a",
   "metadata": {},
   "outputs": [
    {
     "name": "stdout",
     "output_type": "stream",
     "text": [
      "Help on built-in function subfield:\n",
      "\n",
      "subfield(...) method of sage.rings.finite_rings.finite_field_givaro.FiniteField_givaro_with_category instance\n",
      "    FiniteField.subfield(self, degree, name=None)\n",
      "    File: sage/rings/finite_rings/finite_field_base.pyx (starting at line 1462)\n",
      "    \n",
      "            Return the subfield of the field of ``degree``.\n",
      "    \n",
      "            INPUT:\n",
      "    \n",
      "            - ``degree`` -- integer; degree of the subfield\n",
      "    \n",
      "            - ``name`` -- string; name of the generator of the subfield\n",
      "    \n",
      "            EXAMPLES::\n",
      "    \n",
      "                sage: k = GF(2^21)\n",
      "                sage: k.subfield(3)\n",
      "                Finite Field in z3 of size 2^3\n",
      "                sage: k.subfield(7, 'a')\n",
      "                Finite Field in a of size 2^7\n",
      "                sage: k.coerce_map_from(_)\n",
      "                Ring morphism:\n",
      "                  From: Finite Field in a of size 2^7\n",
      "                  To:   Finite Field in z21 of size 2^21\n",
      "                  Defn: a |--> z21^20 + z21^19 + z21^17 + z21^15 + z21^14 + z21^6 + z21^4 + z21^3 + z21\n",
      "                sage: k.subfield(8)\n",
      "                Traceback (most recent call last):\n",
      "                ...\n",
      "                ValueError: no subfield of order 2^8\n",
      "\n"
     ]
    }
   ],
   "source": [
    "help(K.subfield)"
   ]
  },
  {
   "cell_type": "code",
   "execution_count": 3,
   "id": "7139508d",
   "metadata": {},
   "outputs": [],
   "source": [
    "K.<a> = GF(9, \"a\")"
   ]
  },
  {
   "cell_type": "code",
   "execution_count": 4,
   "id": "1e018c4d",
   "metadata": {},
   "outputs": [
    {
     "data": {
      "text/plain": [
       "x^2 + 2*x + 2"
      ]
     },
     "execution_count": 4,
     "metadata": {},
     "output_type": "execute_result"
    }
   ],
   "source": [
    "a.minimal_polynomial()"
   ]
  },
  {
   "cell_type": "code",
   "execution_count": 82,
   "id": "4bdc4eb2",
   "metadata": {},
   "outputs": [],
   "source": [
    "a = [1..5]\n",
    "a.remove(2)"
   ]
  },
  {
   "cell_type": "code",
   "execution_count": 83,
   "id": "c473720b",
   "metadata": {},
   "outputs": [
    {
     "data": {
      "text/plain": [
       "[1, 3, 4, 5]"
      ]
     },
     "execution_count": 83,
     "metadata": {},
     "output_type": "execute_result"
    }
   ],
   "source": [
    "a"
   ]
  },
  {
   "cell_type": "code",
   "execution_count": null,
   "id": "c2a7b5d4",
   "metadata": {},
   "outputs": [],
   "source": []
  }
 ],
 "metadata": {
  "kernelspec": {
   "display_name": "SageMath 9.0",
   "language": "sage",
   "name": "sagemath"
  },
  "language_info": {
   "codemirror_mode": {
    "name": "ipython",
    "version": 3
   },
   "file_extension": ".py",
   "mimetype": "text/x-python",
   "name": "python",
   "nbconvert_exporter": "python",
   "pygments_lexer": "ipython3",
   "version": "3.8.10"
  }
 },
 "nbformat": 4,
 "nbformat_minor": 5
}
