{
 "cells": [
  {
   "cell_type": "code",
   "execution_count": 1,
   "id": "65955d7d",
   "metadata": {},
   "outputs": [],
   "source": [
    "load(\"convolutional_codes.sage\")"
   ]
  },
  {
   "cell_type": "markdown",
   "id": "b2416192",
   "metadata": {},
   "source": [
    "## Codimension 2"
   ]
  },
  {
   "cell_type": "code",
   "execution_count": 2,
   "id": "8f015f78",
   "metadata": {},
   "outputs": [
    {
     "name": "stdout",
     "output_type": "stream",
     "text": [
      "[1 1 1 1 1|0 0 0 0 0]\n",
      "[0 1 2 3 4|z 0 0 0 0]\n",
      "[0 1 4 4 1|1 z 0 0 0]\n",
      "[---------+---------]\n",
      "[0 0 0 0 0|1 1 1 1 1]\n",
      "[0 0 0 0 0|0 1 2 3 4]\n",
      "[0 0 0 0 0|0 1 4 4 1]\n"
     ]
    },
    {
     "data": {
      "text/plain": [
       "True"
      ]
     },
     "execution_count": 2,
     "metadata": {},
     "output_type": "execute_result"
    }
   ],
   "source": [
    "n = 5\n",
    "k = n - 2\n",
    "\n",
    "q = next_prime(n - 1)  # Sage does not want to construct extensions of extension fields for some reason\n",
    "\n",
    "K = GF(q)\n",
    "K_ext.<z> = K.extension(2)\n",
    "\n",
    "G0 = vandermonde_matrix(K, k, n)\n",
    "X = matrix([[0, 0]] * (k - 2) + [[z, 0], [1, z]])\n",
    "\n",
    "G = create_generator_matrix(G0, X)\n",
    "\n",
    "print(G)\n",
    "\n",
    "satisfies_condition(G0, X)"
   ]
  },
  {
   "cell_type": "markdown",
   "id": "08902a49",
   "metadata": {},
   "source": [
    "The case (i, j) = (k, k) is clear. The case (i, j) = (k - 2, k + 2) is also clear as this means that all zero columns are chosen from the second block. The only unclear case is (i, j) = (k - 1, k + 1) when both columns of X are chosen."
   ]
  },
  {
   "cell_type": "code",
   "execution_count": 3,
   "id": "63e1e57a",
   "metadata": {},
   "outputs": [
    {
     "name": "stdout",
     "output_type": "stream",
     "text": [
      "[1 1 0 0 0 0]\n",
      "[1 2 z 0 0 0]\n",
      "[1 4 1 z 0 0]\n",
      "[0 0 1 1 1 1]\n",
      "[0 0 0 1 2 3]\n",
      "[0 0 0 1 4 4]\n"
     ]
    },
    {
     "data": {
      "text/plain": [
       "[0, 4*z, 2, 4*z, 0, 0]"
      ]
     },
     "execution_count": 3,
     "metadata": {},
     "output_type": "execute_result"
    }
   ],
   "source": [
    "# Case (i, j) = (k - 1, k + 1)\n",
    "M = G[:, [1..k-1,n..n+k]]\n",
    "print(M)\n",
    "\n",
    "cofactor_expansion(M, col=k-1)  # only one term with a multiple of 1"
   ]
  },
  {
   "cell_type": "code",
   "execution_count": 4,
   "id": "acc742e6",
   "metadata": {},
   "outputs": [
    {
     "name": "stdout",
     "output_type": "stream",
     "text": [
      "[ 1  1  1  1  1| 0  0  0  0  0]\n",
      "[ 0  1  2 -2 -1| a  0  0  0  0]\n",
      "[ 0  1 -1 -1  1| b  a  0  0  0]\n",
      "[--------------+--------------]\n",
      "[ 0  0  0  0  0| 1  1  1  1  1]\n",
      "[ 0  0  0  0  0| 0  1  2 -2 -1]\n",
      "[ 0  0  0  0  0| 0  1 -1 -1  1]\n",
      "This construction works for all linearly independent a, b over the base field\n"
     ]
    }
   ],
   "source": [
    "n = 5\n",
    "k = n - 2\n",
    "\n",
    "q = next_prime(n - 1)\n",
    "\n",
    "K = GF(q)\n",
    "K_ext.<z> = K.extension(2)\n",
    "\n",
    "_, vec_to_field, _ = K_ext.vector_space(K, map=True)\n",
    "\n",
    "G0 = vandermonde_matrix(K, k, n)\n",
    "\n",
    "def create_X(a, b):\n",
    "    return matrix([[0, 0]] * (k - 2) + [[a, 0], [b, a]])\n",
    "\n",
    "_.<a, b> = K[]\n",
    "\n",
    "print(create_generator_matrix(G0, create_X(a, b)))\n",
    "\n",
    "for A in MatrixSpace(K, 2, 2):\n",
    "\n",
    "    if A.rank() != 2:\n",
    "        continue\n",
    "\n",
    "    a, b = A.rows()\n",
    "\n",
    "    a = vec_to_field(a)\n",
    "    b = vec_to_field(b)\n",
    "\n",
    "    X = create_X(a, b)\n",
    "\n",
    "    assert satisfies_condition(G0, X), f\"This construction does not work for (a, b) = {(a, b)}\"\n",
    "\n",
    "print(\"This construction works for all linearly independent a, b over the base field\")"
   ]
  },
  {
   "cell_type": "markdown",
   "id": "fe0d415d",
   "metadata": {},
   "source": [
    "## Codimension 3"
   ]
  },
  {
   "cell_type": "code",
   "execution_count": 5,
   "id": "439e301f",
   "metadata": {},
   "outputs": [
    {
     "name": "stdout",
     "output_type": "stream",
     "text": [
      "[  1   1   1   1   1   1   1|  0   0   0   0   0   0   0]\n",
      "[  0   1   2   3   4   5   6|  z   0   0   0   0   0   0]\n",
      "[  0   1   4   2   2   4   1|z^2   z   0   0   0   0   0]\n",
      "[  0   1   1   6   1   6   6|  1 z^2   z   0   0   0   0]\n",
      "[---------------------------+---------------------------]\n",
      "[  0   0   0   0   0   0   0|  1   1   1   1   1   1   1]\n",
      "[  0   0   0   0   0   0   0|  0   1   2   3   4   5   6]\n",
      "[  0   0   0   0   0   0   0|  0   1   4   2   2   4   1]\n",
      "[  0   0   0   0   0   0   0|  0   1   1   6   1   6   6]\n"
     ]
    },
    {
     "data": {
      "text/plain": [
       "True"
      ]
     },
     "execution_count": 5,
     "metadata": {},
     "output_type": "execute_result"
    }
   ],
   "source": [
    "n = 7\n",
    "k = n - 3\n",
    "\n",
    "q = next_prime(n - 1)  # Sage does not want to construct extensions of extension fields for some reason\n",
    "\n",
    "K = GF(q)\n",
    "K_ext.<z> = K.extension(3)\n",
    "\n",
    "G0 = vandermonde_matrix(K, k, n)\n",
    "X = matrix([[0, 0, 0]] * (k - 3) + [[z, 0, 0], [z^2, z, 0], [1, z^2, z]])\n",
    "\n",
    "G = create_generator_matrix(G0, X)\n",
    "\n",
    "print(G)\n",
    "\n",
    "satisfies_condition(G0, X, verbose=True)"
   ]
  },
  {
   "cell_type": "markdown",
   "id": "1bb7c930",
   "metadata": {},
   "source": [
    "The case (i, j) = (k, k) is clear. The case (i, j) = (k - 3, k + 3) is also clear. The only ones that are unclear are the ones below"
   ]
  },
  {
   "cell_type": "code",
   "execution_count": 6,
   "id": "1b51869e",
   "metadata": {},
   "outputs": [
    {
     "name": "stdout",
     "output_type": "stream",
     "text": [
      "[  1   1   1   0   0   0   0   0]\n",
      "[  1   2   3   z   0   0   0   0]\n",
      "[  1   4   2 z^2   z   0   0   0]\n",
      "[  1   1   6   1 z^2   0   0   0]\n",
      "[  0   0   0   1   1   1   1   1]\n",
      "[  0   0   0   0   1   3   4   5]\n",
      "[  0   0   0   0   1   2   2   4]\n",
      "[  0   0   0   0   1   6   1   6]\n"
     ]
    },
    {
     "data": {
      "text/plain": [
       "[0, 6*z, 5*z^2, 5, 5*z^2 + 5*z, 0, 0, 0]"
      ]
     },
     "execution_count": 6,
     "metadata": {},
     "output_type": "execute_result"
    }
   ],
   "source": [
    "# Case (i, j) = (k - 1, k + 1)\n",
    "M = G[:, [1..k-1, n, n+1, n+3..n+k+1]]\n",
    "print(M)\n",
    "\n",
    "cofactor_expansion(M, col=k-1)  # only one term with a multiple of 1"
   ]
  },
  {
   "cell_type": "code",
   "execution_count": 7,
   "id": "ccda4627",
   "metadata": {},
   "outputs": [
    {
     "name": "stdout",
     "output_type": "stream",
     "text": [
      "[  1   1   1   0   0   0   0   0]\n",
      "[  1   2   3   z   0   0   0   0]\n",
      "[  1   4   2 z^2   0   0   0   0]\n",
      "[  1   1   6   1   z   0   0   0]\n",
      "[  0   0   0   1   1   1   1   1]\n",
      "[  0   0   0   0   2   3   4   5]\n",
      "[  0   0   0   0   4   2   2   4]\n",
      "[  0   0   0   0   1   6   1   6]\n"
     ]
    },
    {
     "data": {
      "text/plain": [
       "[0, 5*z, 3*z^2, 3, 5*z, 0, 0, 0]"
      ]
     },
     "execution_count": 7,
     "metadata": {},
     "output_type": "execute_result"
    }
   ],
   "source": [
    "# Case (i, j) = (k - 1, k + 1)\n",
    "M = G[:, [1..k-1, n, n+2, n+3..n+k+1]]\n",
    "print(M)\n",
    "\n",
    "cofactor_expansion(M, col=k-1)  # only one term with a multiple of 1"
   ]
  },
  {
   "cell_type": "code",
   "execution_count": 8,
   "id": "fd478f87",
   "metadata": {},
   "outputs": [
    {
     "name": "stdout",
     "output_type": "stream",
     "text": [
      "[  1   1   1   0   0   0   0   0]\n",
      "[  1   2   3   0   0   0   0   0]\n",
      "[  1   4   2   z   0   0   0   0]\n",
      "[  1   1   6 z^2   z   0   0   0]\n",
      "[  0   0   0   1   1   1   1   1]\n",
      "[  0   0   0   1   2   3   4   5]\n",
      "[  0   0   0   1   4   2   2   4]\n",
      "[  0   0   0   1   1   6   1   6]\n"
     ]
    },
    {
     "data": {
      "text/plain": [
       "[0, 0, 3*z, 3*z^2, 5*z, 6*z, z, 4*z]"
      ]
     },
     "execution_count": 8,
     "metadata": {},
     "output_type": "execute_result"
    }
   ],
   "source": [
    "# Case (i, j) = (k - 1, k + 1)\n",
    "M = G[:, [1..k-1, n+1, n+2, n+3..n+k+1]]\n",
    "print(M)\n",
    "\n",
    "cofactor_expansion(M, col=k-1)  # only one term with a multiple of z^2"
   ]
  },
  {
   "cell_type": "code",
   "execution_count": 9,
   "id": "d3434c76",
   "metadata": {},
   "outputs": [
    {
     "name": "stdout",
     "output_type": "stream",
     "text": [
      "[  1   1   0   0   0   0   0   0]\n",
      "[  1   2   z   0   0   0   0   0]\n",
      "[  1   4 z^2   z   0   0   0   0]\n",
      "[  1   1   1 z^2   z   0   0   0]\n",
      "[  0   0   1   1   1   1   1   1]\n",
      "[  0   0   0   1   2   3   4   5]\n",
      "[  0   0   0   1   4   2   2   4]\n",
      "[  0   0   0   1   1   6   1   6]\n"
     ]
    },
    {
     "data": {
      "text/plain": [
       "[0, 3*z^2 + 4, 6*z^2 + z + 4, 2*z, z^2, 0, 0, 0]"
      ]
     },
     "execution_count": 9,
     "metadata": {},
     "output_type": "execute_result"
    }
   ],
   "source": [
    "# Case (i, j) = (k - 2, k + 2)\n",
    "M = G[:, [1..k-2, n, n+1, n+2, n+3..n+k+1]]\n",
    "print(M)\n",
    "\n",
    "cofactor_expansion(M, col=k-2)  # this one is difficult to justify"
   ]
  },
  {
   "cell_type": "code",
   "execution_count": 10,
   "id": "cb700f7c",
   "metadata": {},
   "outputs": [
    {
     "name": "stdout",
     "output_type": "stream",
     "text": [
      "[ 1  1  1  1  1  1  1| 0  0  0  0  0  0  0]\n",
      "[ 0  1  2  3 -3 -2 -1| a  0  0  0  0  0  0]\n",
      "[ 0  1 -3  2  2 -3  1| b  a  0  0  0  0  0]\n",
      "[ 0  1  1 -1  1 -1 -1| c  b  a  0  0  0  0]\n",
      "[--------------------+--------------------]\n",
      "[ 0  0  0  0  0  0  0| 1  1  1  1  1  1  1]\n",
      "[ 0  0  0  0  0  0  0| 0  1  2  3 -3 -2 -1]\n",
      "[ 0  0  0  0  0  0  0| 0  1 -3  2  2 -3  1]\n",
      "[ 0  0  0  0  0  0  0| 0  1  1 -1  1 -1 -1]\n"
     ]
    },
    {
     "ename": "AssertionError",
     "evalue": "This construction does not work for (a, b, c) = (1, z, z^2)",
     "output_type": "error",
     "traceback": [
      "\u001b[0;31m---------------------------------------------------------------------------\u001b[0m",
      "\u001b[0;31mAssertionError\u001b[0m                            Traceback (most recent call last)",
      "\u001b[0;32m<ipython-input-10-8f0b33f48e9e>\u001b[0m in \u001b[0;36m<module>\u001b[0;34m\u001b[0m\n\u001b[1;32m     31\u001b[0m     \u001b[0mX\u001b[0m \u001b[0;34m=\u001b[0m \u001b[0mcreate_X\u001b[0m\u001b[0;34m(\u001b[0m\u001b[0ma\u001b[0m\u001b[0;34m,\u001b[0m \u001b[0mb\u001b[0m\u001b[0;34m,\u001b[0m \u001b[0mc\u001b[0m\u001b[0;34m)\u001b[0m\u001b[0;34m\u001b[0m\u001b[0;34m\u001b[0m\u001b[0m\n\u001b[1;32m     32\u001b[0m \u001b[0;34m\u001b[0m\u001b[0m\n\u001b[0;32m---> 33\u001b[0;31m     \u001b[0;32massert\u001b[0m \u001b[0msatisfies_condition\u001b[0m\u001b[0;34m(\u001b[0m\u001b[0mG0\u001b[0m\u001b[0;34m,\u001b[0m \u001b[0mX\u001b[0m\u001b[0;34m)\u001b[0m\u001b[0;34m,\u001b[0m \u001b[0;34mf\"This construction does not work for (a, b, c) = {(a, b, c)}\"\u001b[0m\u001b[0;34m\u001b[0m\u001b[0;34m\u001b[0m\u001b[0m\n\u001b[0m\u001b[1;32m     34\u001b[0m \u001b[0;34m\u001b[0m\u001b[0m\n\u001b[1;32m     35\u001b[0m \u001b[0mprint\u001b[0m\u001b[0;34m(\u001b[0m\u001b[0;34m\"This construction works for all linearly independent a, b, c over the base field\"\u001b[0m\u001b[0;34m)\u001b[0m\u001b[0;34m\u001b[0m\u001b[0;34m\u001b[0m\u001b[0m\n",
      "\u001b[0;31mAssertionError\u001b[0m: This construction does not work for (a, b, c) = (1, z, z^2)"
     ]
    }
   ],
   "source": [
    "n = 7\n",
    "k = n - 3\n",
    "\n",
    "q = next_prime(n - 1)\n",
    "\n",
    "K = GF(q)\n",
    "K_ext.<z> = K.extension(3)\n",
    "\n",
    "_, vec_to_field, _ = K_ext.vector_space(K, map=True)\n",
    "\n",
    "G0 = vandermonde_matrix(K, k, n)\n",
    "\n",
    "def create_X(a, b, c):\n",
    "    return matrix([[0, 0, 0]] * (k - 3) + [[a, 0, 0], [b, a, 0], [c, b, a]])\n",
    "\n",
    "_.<a, b, c> = K[]\n",
    "\n",
    "print(create_generator_matrix(G0, create_X(a, b, c)))\n",
    "\n",
    "for A in MatrixSpace(K, 3, 3):\n",
    "\n",
    "    if A.rank() != 3:\n",
    "        continue\n",
    "\n",
    "    a, b, c = A.rows()\n",
    "\n",
    "    a = vec_to_field(a)\n",
    "    b = vec_to_field(b)\n",
    "    c = vec_to_field(c)\n",
    "\n",
    "    X = create_X(a, b, c)\n",
    "\n",
    "    assert satisfies_condition(G0, X), f\"This construction does not work for (a, b, c) = {(a, b, c)}\"\n",
    "\n",
    "print(\"This construction works for all linearly independent a, b, c over the base field\")"
   ]
  }
 ],
 "metadata": {
  "kernelspec": {
   "display_name": "SageMath 9.0",
   "language": "sage",
   "name": "sagemath"
  },
  "language_info": {
   "codemirror_mode": {
    "name": "ipython",
    "version": 3
   },
   "file_extension": ".py",
   "mimetype": "text/x-python",
   "name": "python",
   "nbconvert_exporter": "python",
   "pygments_lexer": "ipython3",
   "version": "3.8.10"
  }
 },
 "nbformat": 4,
 "nbformat_minor": 5
}
