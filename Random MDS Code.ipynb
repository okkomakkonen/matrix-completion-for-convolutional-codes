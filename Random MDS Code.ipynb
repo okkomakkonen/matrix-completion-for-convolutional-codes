{
 "cells": [
  {
   "cell_type": "code",
   "execution_count": 1,
   "id": "61f86329",
   "metadata": {},
   "outputs": [],
   "source": [
    "from itertools import combinations\n",
    "\n",
    "def create_variable_matrix(K, n, m):\n",
    "\n",
    "    R = PolynomialRing(K, n, m, var_array=\"x\")\n",
    "    x = R.gens()\n",
    "    X = matrix([x[i:i + m] for i in range(0, n * m, m)])\n",
    "    \n",
    "    return X\n",
    "\n",
    "def create_full_generator_matrix(K, n, k):\n",
    "    \n",
    "    return create_variable_matrix(K, k, n)\n",
    "\n",
    "def create_standard_generator_matrix(K, n, k):\n",
    "    \n",
    "    X = create_variable_matrix(K, k, n - k)\n",
    "    \n",
    "    return block_matrix([[identity_matrix(K, k, k), X]])\n",
    "\n",
    "def minor_product_polynomial(G):\n",
    "    \n",
    "    k, n = G.dimensions()\n",
    "    \n",
    "    P = 1\n",
    "    \n",
    "    for I in combinations(range(n), k):\n",
    "        P *= G[:, I].det()\n",
    "        \n",
    "    return P"
   ]
  },
  {
   "cell_type": "code",
   "execution_count": 14,
   "id": "7cc40ce9",
   "metadata": {},
   "outputs": [],
   "source": [
    "def full_degree(n, k):\n",
    "    \n",
    "    return binomial(n, k)*k\n",
    "\n",
    "def full_individual_degree(n, k):\n",
    "    \n",
    "    return binomial(n - 1, k - 1)\n",
    "\n",
    "def standard_degree(n, k):\n",
    "    \n",
    "    d = 0\n",
    "    \n",
    "    for l in range(k + 1):\n",
    "        d += binomial(k, l)*binomial(n - k, l)*l\n",
    "        \n",
    "    return d\n",
    "\n",
    "def standard_individual_degree(n, k):\n",
    "    \n",
    "    assert 1 <= k <= n\n",
    "    \n",
    "    d = 0\n",
    "    for l in range(k + 1):\n",
    "        d += binomial(k - 1, k - l)*binomial(n - k - 1, l - 1)\n",
    "        \n",
    "    return d"
   ]
  },
  {
   "cell_type": "code",
   "execution_count": 3,
   "id": "7d66b6f8",
   "metadata": {},
   "outputs": [
    {
     "name": "stdout",
     "output_type": "stream",
     "text": [
      "Actual degrees\n",
      "30\n",
      "5\n",
      "Closed formulas\n",
      "30\n",
      "5\n"
     ]
    }
   ],
   "source": [
    "n, k = 6, 2\n",
    "K = GF(2)\n",
    "\n",
    "G = create_full_generator_matrix(K, n, k)\n",
    "P = minor_product_polynomial(G)\n",
    "\n",
    "print(\"Actual degrees\")\n",
    "print(P.degree())\n",
    "print(P.degrees()[0])\n",
    "print(\"Closed formulas\")\n",
    "print(full_degree(n, k))\n",
    "print(full_individual_degree(n, k))"
   ]
  },
  {
   "cell_type": "code",
   "execution_count": 4,
   "id": "a62c8b17",
   "metadata": {},
   "outputs": [
    {
     "name": "stdout",
     "output_type": "stream",
     "text": [
      "Actual degrees\n",
      "60\n",
      "10\n",
      "Closed formulas\n",
      "60\n",
      "10\n"
     ]
    }
   ],
   "source": [
    "n, k = 7, 3\n",
    "K = GF(7)\n",
    "\n",
    "G = create_standard_generator_matrix(K, n, k)\n",
    "P = minor_product_polynomial(G)\n",
    "\n",
    "print(\"Actual degrees\")\n",
    "print(P.degree())\n",
    "print(P.degrees()[0])\n",
    "print(\"Closed formulas\")\n",
    "print(standard_degree(n, k))\n",
    "print(standard_individual_degree(n, k))"
   ]
  },
  {
   "cell_type": "code",
   "execution_count": 5,
   "id": "71ec5f3a",
   "metadata": {},
   "outputs": [
    {
     "data": {
      "text/plain": [
       "[  1   0   0|x00 x01 x02 x03]\n",
       "[  0   1   0|x10 x11 x12 x13]\n",
       "[  0   0   1|x20 x21 x22 x23]"
      ]
     },
     "execution_count": 5,
     "metadata": {},
     "output_type": "execute_result"
    }
   ],
   "source": [
    "G"
   ]
  },
  {
   "cell_type": "code",
   "execution_count": 16,
   "id": "8d9a0c3e",
   "metadata": {},
   "outputs": [
    {
     "name": "stdout",
     "output_type": "stream",
     "text": [
      "[2, 1] : 2\n",
      "\n",
      "[3, 1] : 2\n",
      "[3, 2] : 2\n",
      "\n",
      "[4, 1] : 2\n",
      "[4, 2] : 3\n",
      "[4, 3] : 2\n",
      "\n",
      "[5, 1] : 2\n",
      "[5, 2] : 4\n",
      "[5, 3] : 4\n",
      "[5, 4] : 2\n",
      "\n",
      "[6, 1] : 2\n",
      "[6, 2] : 5\n",
      "[6, 3] : 7\n",
      "[6, 4] : 5\n",
      "[6, 5] : 2\n",
      "\n",
      "[7, 1] : 2\n",
      "[7, 2] : 6\n",
      "[7, 3] : 11\n",
      "[7, 4] : 11\n",
      "[7, 5] : 6\n",
      "[7, 6] : 2\n",
      "\n",
      "[8, 1] : 2\n",
      "[8, 2] : 7\n",
      "[8, 3] : 16\n",
      "[8, 4] : 21\n",
      "[8, 5] : 16\n",
      "[8, 6] : 7\n",
      "[8, 7] : 2\n",
      "\n",
      "[9, 1] : 2\n",
      "[9, 2] : 8\n",
      "[9, 3] : 22\n",
      "[9, 4] : 36\n",
      "[9, 5] : 36\n",
      "[9, 6] : 22\n",
      "[9, 7] : 8\n",
      "[9, 8] : 2\n",
      "\n",
      "[10, 1] : 2\n",
      "[10, 2] : 9\n",
      "[10, 3] : 29\n",
      "[10, 4] : 57\n",
      "[10, 5] : 71\n",
      "[10, 6] : 57\n",
      "[10, 7] : 29\n",
      "[10, 8] : 9\n",
      "[10, 9] : 2\n",
      "\n",
      "[11, 1] : 2\n",
      "[11, 2] : 10\n",
      "[11, 3] : 37\n",
      "[11, 4] : 85\n",
      "[11, 5] : 127\n",
      "[11, 6] : 127\n",
      "[11, 7] : 85\n",
      "[11, 8] : 37\n",
      "[11, 9] : 10\n",
      "[11, 10] : 2\n",
      "\n",
      "[12, 1] : 2\n",
      "[12, 2] : 11\n",
      "[12, 3] : 46\n",
      "[12, 4] : 121\n",
      "[12, 5] : 211\n",
      "[12, 6] : 253\n",
      "[12, 7] : 211\n",
      "[12, 8] : 121\n",
      "[12, 9] : 46\n",
      "[12, 10] : 11\n",
      "[12, 11] : 2\n",
      "\n",
      "[13, 1] : 2\n",
      "[13, 2] : 12\n",
      "[13, 3] : 56\n",
      "[13, 4] : 166\n",
      "[13, 5] : 331\n",
      "[13, 6] : 463\n",
      "[13, 7] : 463\n",
      "[13, 8] : 331\n",
      "[13, 9] : 166\n",
      "[13, 10] : 56\n",
      "[13, 11] : 12\n",
      "[13, 12] : 2\n",
      "\n",
      "[14, 1] : 2\n",
      "[14, 2] : 13\n",
      "[14, 3] : 67\n",
      "[14, 4] : 221\n",
      "[14, 5] : 496\n",
      "[14, 6] : 793\n",
      "[14, 7] : 925\n",
      "[14, 8] : 793\n",
      "[14, 9] : 496\n",
      "[14, 10] : 221\n",
      "[14, 11] : 67\n",
      "[14, 12] : 13\n",
      "[14, 13] : 2\n",
      "\n"
     ]
    }
   ],
   "source": [
    "for n in range(2, 15):\n",
    "    for k in range(1, n):\n",
    "        print(f\"[{n}, {k}] : {standard_individual_degree(n, k) + 1}\")\n",
    "    print()"
   ]
  },
  {
   "cell_type": "code",
   "execution_count": 7,
   "id": "ff6fadbc",
   "metadata": {},
   "outputs": [
    {
     "name": "stdout",
     "output_type": "stream",
     "text": [
      "Defining x00, x01, x02, x03, x10, x11, x12, x13, x20, x21, x22, x23\n"
     ]
    }
   ],
   "source": [
    "G.base_ring().inject_variables()"
   ]
  },
  {
   "cell_type": "code",
   "execution_count": 9,
   "id": "d8a4ba57",
   "metadata": {},
   "outputs": [],
   "source": [
    "G_new = G.subs({x00: 1, x01: 1, x02: 1, x03: 1})"
   ]
  },
  {
   "cell_type": "code",
   "execution_count": 11,
   "id": "791daa46",
   "metadata": {},
   "outputs": [
    {
     "data": {
      "text/plain": [
       "(0, 0, 0, 0, 10, 10, 10, 10, 10, 10, 10, 10)"
      ]
     },
     "execution_count": 11,
     "metadata": {},
     "output_type": "execute_result"
    }
   ],
   "source": [
    "minor_product_polynomial(G_new).degrees()"
   ]
  },
  {
   "cell_type": "code",
   "execution_count": 12,
   "id": "0919fef9",
   "metadata": {},
   "outputs": [
    {
     "data": {
      "text/plain": [
       "(10, 10, 10, 10, 10, 10, 10, 10, 10, 10, 10, 10)"
      ]
     },
     "execution_count": 12,
     "metadata": {},
     "output_type": "execute_result"
    }
   ],
   "source": [
    "minor_product_polynomial(G).degrees()"
   ]
  },
  {
   "cell_type": "code",
   "execution_count": null,
   "id": "6af314ac",
   "metadata": {},
   "outputs": [],
   "source": []
  }
 ],
 "metadata": {
  "kernelspec": {
   "display_name": "SageMath 9.0",
   "language": "sage",
   "name": "sagemath"
  },
  "language_info": {
   "codemirror_mode": {
    "name": "ipython",
    "version": 3
   },
   "file_extension": ".py",
   "mimetype": "text/x-python",
   "name": "python",
   "nbconvert_exporter": "python",
   "pygments_lexer": "ipython3",
   "version": "3.8.10"
  }
 },
 "nbformat": 4,
 "nbformat_minor": 5
}
