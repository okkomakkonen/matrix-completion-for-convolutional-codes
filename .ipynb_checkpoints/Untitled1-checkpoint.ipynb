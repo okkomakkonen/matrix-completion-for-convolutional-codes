{
 "cells": [
  {
   "cell_type": "code",
   "execution_count": 9,
   "id": "dbee89d6",
   "metadata": {},
   "outputs": [],
   "source": [
    "def check_condition(G0, G1):\n",
    "    \n",
    "    k, n = G0.dimensions()\n",
    "    \n",
    "    G = block_matrix([[G0, G1], [0, G0]])\n",
    "    \n",
    "    works = True\n",
    "    \n",
    "    for i in range(k + 1):\n",
    "        for j in range(2*k + 1):\n",
    "            if i + j != 2*k:\n",
    "                continue\n",
    "            \n",
    "            for T in Subsets(list(range(n)), i):\n",
    "                for S in Subsets(list(range(n, 2*n)), j):\n",
    "                    \n",
    "                    U = list(T.union(S))\n",
    "                    \n",
    "                    if G[:, U].rank() != len(U):\n",
    "                        works = False\n",
    "                        print(\"submatrix on\", U, \"has rank\", G[:, U].rank(), \"but should be\", len(U))\n",
    "\n",
    "    return works"
   ]
  },
  {
   "cell_type": "code",
   "execution_count": 10,
   "id": "e9c1fd31",
   "metadata": {},
   "outputs": [
    {
     "data": {
      "text/plain": [
       "(\n",
       "[1 0 0 1 3]                  \n",
       "[0 1 0 8 3]  [ 1  0  5  8  8]\n",
       "[0 0 1 3 6], [ 0  1  8  3 10]\n",
       ")"
      ]
     },
     "execution_count": 10,
     "metadata": {},
     "output_type": "execute_result"
    }
   ],
   "source": [
    "n, k = 5, 3\n",
    "assert n - k == 2\n",
    "q = 11\n",
    "\n",
    "K = GF(q)\n",
    "\n",
    "G0 = matrix.vandermonde(K.list()[:n]).T[:k].rref()\n",
    "H0 = LinearCode(G0).parity_check_matrix()\n",
    "\n",
    "G0, H0"
   ]
  },
  {
   "cell_type": "code",
   "execution_count": 11,
   "id": "29b68227",
   "metadata": {},
   "outputs": [
    {
     "name": "stdout",
     "output_type": "stream",
     "text": [
      "10\n"
     ]
    }
   ],
   "source": [
    "set_random_seed(3141)\n",
    "\n",
    "while True:\n",
    "    \n",
    "    M = K.one()\n",
    "\n",
    "    (p11, p12, p13, p21, p22, p23) = random_vector(K, 2*k)\n",
    "\n",
    "    for i in range(n):\n",
    "        for j in range(i + 1, n):\n",
    "            for w in range(n):\n",
    "                M *= matrix(K, [G0.T[i], G0.T[j], (H0[1, w] * p11 - H0[0, w] * p21, H0[1, w] * p12 - H0[0, w] * p22, H0[1, w] * p13 - H0[0, w] * p23)]).det()\n",
    "\n",
    "    M *= matrix(K, [[p11, p21], [p12, p22]]).det()\n",
    "\n",
    "    if M != 0:\n",
    "        print(M)\n",
    "        break"
   ]
  },
  {
   "cell_type": "code",
   "execution_count": 12,
   "id": "04522e41",
   "metadata": {},
   "outputs": [
    {
     "data": {
      "text/plain": [
       "[8 9]\n",
       "[4 1]\n",
       "[4 4]"
      ]
     },
     "execution_count": 12,
     "metadata": {},
     "output_type": "execute_result"
    }
   ],
   "source": [
    "P = matrix(K, [[p11, p21], [p12, p22], [p13, p23]]); P"
   ]
  },
  {
   "cell_type": "code",
   "execution_count": 13,
   "id": "812aa88a",
   "metadata": {},
   "outputs": [],
   "source": [
    "G1 = block_matrix([[P, zero_matrix(3, 3)]])"
   ]
  },
  {
   "cell_type": "code",
   "execution_count": 14,
   "id": "150af9a0",
   "metadata": {},
   "outputs": [
    {
     "data": {
      "text/plain": [
       "[1 0 0 1 3|8 9 0 0 0]\n",
       "[0 1 0 8 3|4 1 0 0 0]\n",
       "[0 0 1 3 6|4 4 0 0 0]\n",
       "[---------+---------]\n",
       "[0 0 0 0 0|1 0 0 1 3]\n",
       "[0 0 0 0 0|0 1 0 8 3]\n",
       "[0 0 0 0 0|0 0 1 3 6]"
      ]
     },
     "execution_count": 14,
     "metadata": {},
     "output_type": "execute_result"
    }
   ],
   "source": [
    "G = block_matrix([[G0, G1], [0, G0]]); G"
   ]
  },
  {
   "cell_type": "code",
   "execution_count": 15,
   "id": "8b226f7f",
   "metadata": {},
   "outputs": [
    {
     "data": {
      "text/plain": [
       "True"
      ]
     },
     "execution_count": 15,
     "metadata": {},
     "output_type": "execute_result"
    }
   ],
   "source": [
    "check_condition(G0, G1)"
   ]
  },
  {
   "cell_type": "code",
   "execution_count": 8,
   "id": "3cdf5ac4",
   "metadata": {},
   "outputs": [],
   "source": [
    "def minor_degree_restricted2(n, k):\n",
    "    d = 0\n",
    "    for i in range(k+1):\n",
    "        for j in range(n-k+1):\n",
    "            for l in range(k+1):\n",
    "                if i + j + k != 2*k:\n",
    "                    continue\n",
    "                d += binomial(n, i)*binomial(n-k, j)*binomial(k, l)*j\n",
    "    return d\n",
    "\n",
    "def minor_degree_restricted1(n, k):\n",
    "    d = 0\n",
    "    for i in range(k+1):\n",
    "        for j in range(n-k+1):\n",
    "            for l in range(n+1):\n",
    "                if i + j + l != 2*k:\n",
    "                    continue\n",
    "                d += binomial(k, i)*binomial(n-k, j)*binomial(n, l)*(j+l)\n",
    "    return d\n",
    "\n",
    "def minor_degree(n, k):\n",
    "    d = 0\n",
    "    for i in range(k+1):\n",
    "        for j in range(n+1):\n",
    "            if i + j != 2*k:\n",
    "                continue\n",
    "            d += binomial(n, i)*binomial(n, j)*2*k\n",
    "    return d"
   ]
  },
  {
   "cell_type": "code",
   "execution_count": 9,
   "id": "66560767",
   "metadata": {},
   "outputs": [
    {
     "data": {
      "text/plain": [
       "(930, 882, 240)"
      ]
     },
     "execution_count": 9,
     "metadata": {},
     "output_type": "execute_result"
    }
   ],
   "source": [
    "minor_degree(5, 3), minor_degree_restricted1(5, 3), minor_degree_restricted2(5, 3)"
   ]
  }
 ],
 "metadata": {
  "kernelspec": {
   "display_name": "SageMath 9.0",
   "language": "sage",
   "name": "sagemath"
  },
  "language_info": {
   "codemirror_mode": {
    "name": "ipython",
    "version": 3
   },
   "file_extension": ".py",
   "mimetype": "text/x-python",
   "name": "python",
   "nbconvert_exporter": "python",
   "pygments_lexer": "ipython3",
   "version": "3.8.10"
  }
 },
 "nbformat": 4,
 "nbformat_minor": 5
}
