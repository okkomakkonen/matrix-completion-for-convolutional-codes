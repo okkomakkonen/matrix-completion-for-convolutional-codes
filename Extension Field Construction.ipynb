{
 "cells": [
  {
   "cell_type": "code",
   "execution_count": 1,
   "id": "65955d7d",
   "metadata": {},
   "outputs": [],
   "source": [
    "from extension_field_construction import *"
   ]
  },
  {
   "cell_type": "markdown",
   "id": "b2416192",
   "metadata": {},
   "source": [
    "## Codimension 2\n",
    "\n",
    "The next few cells have constructions where `n = k + 2`"
   ]
  },
  {
   "cell_type": "code",
   "execution_count": 2,
   "id": "8f015f78",
   "metadata": {},
   "outputs": [
    {
     "name": "stdout",
     "output_type": "stream",
     "text": [
      "[1 1 1 1 1|0 0 0 0 0]\n",
      "[0 1 2 3 4|z 0 0 0 0]\n",
      "[0 1 4 4 1|1 z 0 0 0]\n",
      "[---------+---------]\n",
      "[0 0 0 0 0|1 1 1 1 1]\n",
      "[0 0 0 0 0|0 1 2 3 4]\n",
      "[0 0 0 0 0|0 1 4 4 1]\n"
     ]
    },
    {
     "data": {
      "text/plain": [
       "True"
      ]
     },
     "execution_count": 2,
     "metadata": {},
     "output_type": "execute_result"
    }
   ],
   "source": [
    "n = 5\n",
    "k = n - 2\n",
    "\n",
    "q = next_prime(n - 1)  # Sage does not want to construct extensions of extension fields for some reason\n",
    "\n",
    "K = GF(q)\n",
    "K_ext.<z> = K.extension(2)\n",
    "\n",
    "G0 = vandermonde_matrix(K, k, n)\n",
    "X = matrix([[0, 0]] * (k - 2) + [[z, 0], [1, z]])\n",
    "\n",
    "G = create_generator_matrix(G0, X)\n",
    "\n",
    "print(G)\n",
    "\n",
    "satisfies_condition(G0, X)"
   ]
  },
  {
   "cell_type": "markdown",
   "id": "08902a49",
   "metadata": {},
   "source": [
    "The case (i, j) = (k, k) is clear. The case (i, j) = (k - 2, k + 2) is also clear as this means that all zero columns are chosen from the second block. The only unclear case is (i, j) = (k - 1, k + 1) when both columns of X are chosen."
   ]
  },
  {
   "cell_type": "code",
   "execution_count": 3,
   "id": "63e1e57a",
   "metadata": {},
   "outputs": [
    {
     "name": "stdout",
     "output_type": "stream",
     "text": [
      "[1 1 0 0 0 0]\n",
      "[1 2 z 0 0 0]\n",
      "[1 4 1 z 0 0]\n",
      "[0 0 1 1 1 1]\n",
      "[0 0 0 1 2 3]\n",
      "[0 0 0 1 4 4]\n"
     ]
    },
    {
     "data": {
      "text/plain": [
       "[0, 4*z, 2, 4*z, 0, 0]"
      ]
     },
     "execution_count": 3,
     "metadata": {},
     "output_type": "execute_result"
    }
   ],
   "source": [
    "# Case (i, j) = (k - 1, k + 1)\n",
    "M = G[:, [1..k-1,n..n+k]]\n",
    "print(M)\n",
    "\n",
    "cofactor_expansion(M, col=k-1)  # only one term with a multiple of 1"
   ]
  },
  {
   "cell_type": "code",
   "execution_count": 4,
   "id": "acc742e6",
   "metadata": {},
   "outputs": [
    {
     "name": "stdout",
     "output_type": "stream",
     "text": [
      "[ 1  1  1  1  1| 0  0  0  0  0]\n",
      "[ 0  1  2 -2 -1|b1  0  0  0  0]\n",
      "[ 0  1 -1 -1  1|b2 b1  0  0  0]\n",
      "[--------------+--------------]\n",
      "[ 0  0  0  0  0| 1  1  1  1  1]\n",
      "[ 0  0  0  0  0| 0  1  2 -2 -1]\n",
      "[ 0  0  0  0  0| 0  1 -1 -1  1]\n",
      "This construction works for all linearly independent b1, b2 over the base field\n"
     ]
    }
   ],
   "source": [
    "n = 5\n",
    "k = n - 2\n",
    "\n",
    "q = next_prime(n - 1)\n",
    "\n",
    "K = GF(q)\n",
    "K_ext.<z> = K.extension(2)\n",
    "\n",
    "_, vec_to_field, _ = K_ext.vector_space(K, map=True)\n",
    "\n",
    "G0 = vandermonde_matrix(K, k, n)\n",
    "\n",
    "_.<b1, b2> = K[]\n",
    "\n",
    "print(create_generator_matrix(G0, create_X_matrix([b1, b2], k)))\n",
    "\n",
    "for A in MatrixSpace(K, 2, 2):\n",
    "\n",
    "    if A.rank() != 2:\n",
    "        continue\n",
    "    \n",
    "    # b1, b2 are elements of GF(q^2) that are linearly independent\n",
    "    # over the base field GF(q)\n",
    "    b1, b2 = A.rows()\n",
    "\n",
    "    b1 = vec_to_field(b1)\n",
    "    b2 = vec_to_field(b2)\n",
    "\n",
    "    X = create_X_matrix([b1, b2], k)\n",
    "\n",
    "    if not satisfies_condition(G0, X):\n",
    "        print(f\"This construction does not work for (b1, b2) = {(b1, b2)}\")\n",
    "        break\n",
    "else:\n",
    "    print(\"This construction works for all linearly independent b1, b2 over the base field\")"
   ]
  },
  {
   "cell_type": "markdown",
   "id": "fe0d415d",
   "metadata": {},
   "source": [
    "## Codimension 3\n",
    "\n",
    "The next few cells have constructions where `n = k + 3`"
   ]
  },
  {
   "cell_type": "code",
   "execution_count": 5,
   "id": "439e301f",
   "metadata": {},
   "outputs": [
    {
     "name": "stdout",
     "output_type": "stream",
     "text": [
      "[  1   1   1   1   1   1   1|  0   0   0   0   0   0   0]\n",
      "[  0   1   2   3   4   5   6|  z   0   0   0   0   0   0]\n",
      "[  0   1   4   2   2   4   1|z^2   z   0   0   0   0   0]\n",
      "[  0   1   1   6   1   6   6|  1 z^2   z   0   0   0   0]\n",
      "[---------------------------+---------------------------]\n",
      "[  0   0   0   0   0   0   0|  1   1   1   1   1   1   1]\n",
      "[  0   0   0   0   0   0   0|  0   1   2   3   4   5   6]\n",
      "[  0   0   0   0   0   0   0|  0   1   4   2   2   4   1]\n",
      "[  0   0   0   0   0   0   0|  0   1   1   6   1   6   6]\n"
     ]
    },
    {
     "data": {
      "text/plain": [
       "True"
      ]
     },
     "execution_count": 5,
     "metadata": {},
     "output_type": "execute_result"
    }
   ],
   "source": [
    "n = 7\n",
    "k = n - 3\n",
    "\n",
    "q = next_prime(n - 1)  # Sage does not want to construct extensions of extension fields for some reason\n",
    "\n",
    "K = GF(q)\n",
    "K_ext.<z> = K.extension(3)\n",
    "\n",
    "G0 = vandermonde_matrix(K, k, n)\n",
    "X = matrix([[0, 0, 0]] * (k - 3) + [[z, 0, 0], [z^2, z, 0], [1, z^2, z]])\n",
    "\n",
    "G = create_generator_matrix(G0, X)\n",
    "\n",
    "print(G)\n",
    "\n",
    "satisfies_condition(G0, X, verbose=True)"
   ]
  },
  {
   "cell_type": "markdown",
   "id": "1bb7c930",
   "metadata": {},
   "source": [
    "The case (i, j) = (k, k) is clear. The case (i, j) = (k - 3, k + 3) is also clear. The only ones that are unclear are the ones below"
   ]
  },
  {
   "cell_type": "code",
   "execution_count": 6,
   "id": "1b51869e",
   "metadata": {},
   "outputs": [
    {
     "name": "stdout",
     "output_type": "stream",
     "text": [
      "[  1   1   1   0   0   0   0   0]\n",
      "[  1   2   3   z   0   0   0   0]\n",
      "[  1   4   2 z^2   z   0   0   0]\n",
      "[  1   1   6   1 z^2   0   0   0]\n",
      "[  0   0   0   1   1   1   1   1]\n",
      "[  0   0   0   0   1   3   4   5]\n",
      "[  0   0   0   0   1   2   2   4]\n",
      "[  0   0   0   0   1   6   1   6]\n"
     ]
    },
    {
     "data": {
      "text/plain": [
       "[0, 6*z, 5*z^2, 5, 5*z^2 + 5*z, 0, 0, 0]"
      ]
     },
     "execution_count": 6,
     "metadata": {},
     "output_type": "execute_result"
    }
   ],
   "source": [
    "# Case (i, j) = (k - 1, k + 1)\n",
    "M = G[:, [1..k-1, n, n+1, n+3..n+k+1]]\n",
    "print(M)\n",
    "\n",
    "cofactor_expansion(M, col=k-1)  # only one term with a multiple of 1"
   ]
  },
  {
   "cell_type": "code",
   "execution_count": 7,
   "id": "ccda4627",
   "metadata": {},
   "outputs": [
    {
     "name": "stdout",
     "output_type": "stream",
     "text": [
      "[  1   1   1   0   0   0   0   0]\n",
      "[  1   2   3   z   0   0   0   0]\n",
      "[  1   4   2 z^2   0   0   0   0]\n",
      "[  1   1   6   1   z   0   0   0]\n",
      "[  0   0   0   1   1   1   1   1]\n",
      "[  0   0   0   0   2   3   4   5]\n",
      "[  0   0   0   0   4   2   2   4]\n",
      "[  0   0   0   0   1   6   1   6]\n"
     ]
    },
    {
     "data": {
      "text/plain": [
       "[0, 5*z, 3*z^2, 3, 5*z, 0, 0, 0]"
      ]
     },
     "execution_count": 7,
     "metadata": {},
     "output_type": "execute_result"
    }
   ],
   "source": [
    "# Case (i, j) = (k - 1, k + 1)\n",
    "M = G[:, [1..k-1, n, n+2, n+3..n+k+1]]\n",
    "print(M)\n",
    "\n",
    "cofactor_expansion(M, col=k-1)  # only one term with a multiple of 1"
   ]
  },
  {
   "cell_type": "code",
   "execution_count": 8,
   "id": "fd478f87",
   "metadata": {},
   "outputs": [
    {
     "name": "stdout",
     "output_type": "stream",
     "text": [
      "[  1   1   1   0   0   0   0   0]\n",
      "[  1   2   3   0   0   0   0   0]\n",
      "[  1   4   2   z   0   0   0   0]\n",
      "[  1   1   6 z^2   z   0   0   0]\n",
      "[  0   0   0   1   1   1   1   1]\n",
      "[  0   0   0   1   2   3   4   5]\n",
      "[  0   0   0   1   4   2   2   4]\n",
      "[  0   0   0   1   1   6   1   6]\n"
     ]
    },
    {
     "data": {
      "text/plain": [
       "[0, 0, 3*z, 3*z^2, 5*z, 6*z, z, 4*z]"
      ]
     },
     "execution_count": 8,
     "metadata": {},
     "output_type": "execute_result"
    }
   ],
   "source": [
    "# Case (i, j) = (k - 1, k + 1)\n",
    "M = G[:, [1..k-1, n+1, n+2, n+3..n+k+1]]\n",
    "print(M)\n",
    "\n",
    "cofactor_expansion(M, col=k-1)  # only one term with a multiple of z^2"
   ]
  },
  {
   "cell_type": "code",
   "execution_count": 9,
   "id": "d3434c76",
   "metadata": {},
   "outputs": [
    {
     "name": "stdout",
     "output_type": "stream",
     "text": [
      "[  1   1   0   0   0   0   0   0]\n",
      "[  1   2   z   0   0   0   0   0]\n",
      "[  1   4 z^2   z   0   0   0   0]\n",
      "[  1   1   1 z^2   z   0   0   0]\n",
      "[  0   0   1   1   1   1   1   1]\n",
      "[  0   0   0   1   2   3   4   5]\n",
      "[  0   0   0   1   4   2   2   4]\n",
      "[  0   0   0   1   1   6   1   6]\n"
     ]
    },
    {
     "data": {
      "text/plain": [
       "[0, 3*z^2 + 4, 6*z^2 + z + 4, 2*z, z^2, 0, 0, 0]"
      ]
     },
     "execution_count": 9,
     "metadata": {},
     "output_type": "execute_result"
    }
   ],
   "source": [
    "# Case (i, j) = (k - 2, k + 2)\n",
    "M = G[:, [1..k-2, n, n+1, n+2, n+3..n+k+1]]\n",
    "print(M)\n",
    "\n",
    "cofactor_expansion(M, col=k-2)  # this one is difficult to justify\n",
    "# TODO: show that the matrix below is invertible in general"
   ]
  },
  {
   "cell_type": "code",
   "execution_count": 10,
   "id": "cb700f7c",
   "metadata": {},
   "outputs": [
    {
     "name": "stdout",
     "output_type": "stream",
     "text": [
      "[ 1  1  1  1  1  1  1| 0  0  0  0  0  0  0]\n",
      "[ 0  1  2  3 -3 -2 -1|b1  0  0  0  0  0  0]\n",
      "[ 0  1 -3  2  2 -3  1|b2 b1  0  0  0  0  0]\n",
      "[ 0  1  1 -1  1 -1 -1|b3 b2 b1  0  0  0  0]\n",
      "[--------------------+--------------------]\n",
      "[ 0  0  0  0  0  0  0| 1  1  1  1  1  1  1]\n",
      "[ 0  0  0  0  0  0  0| 0  1  2  3 -3 -2 -1]\n",
      "[ 0  0  0  0  0  0  0| 0  1 -3  2  2 -3  1]\n",
      "[ 0  0  0  0  0  0  0| 0  1  1 -1  1 -1 -1]\n",
      "This construction does not work for (b1, b2, b3) = (1, z, z^2)\n"
     ]
    }
   ],
   "source": [
    "n = 7\n",
    "k = n - 3\n",
    "\n",
    "q = next_prime(n - 1)\n",
    "\n",
    "K = GF(q)\n",
    "K_ext.<z> = K.extension(3)\n",
    "\n",
    "_, vec_to_field, _ = K_ext.vector_space(K, map=True)\n",
    "\n",
    "G0 = vandermonde_matrix(K, k, n)\n",
    "\n",
    "_.<b1, b2, b3> = K[]\n",
    "\n",
    "print(create_generator_matrix(G0, create_X_matrix([b1, b2, b3], k)))\n",
    "\n",
    "for A in MatrixSpace(K, 3, 3):\n",
    "\n",
    "    if A.rank() != 3:\n",
    "        continue\n",
    "    \n",
    "    # b1, b2, b3 are elements of GF(q^3) that are linearly independent\n",
    "    # over the base field GF(q)\n",
    "    b1, b2, b3 = A.rows()\n",
    "\n",
    "    b1 = vec_to_field(b1)\n",
    "    b2 = vec_to_field(b2)\n",
    "    b3 = vec_to_field(b3)\n",
    "\n",
    "    X = create_X_matrix([b1, b2, b3], k)\n",
    "\n",
    "    if not satisfies_condition(G0, X):\n",
    "        print(f\"This construction does not work for (b1, b2, b3) = {(b1, b2, b3)}\")\n",
    "        break\n",
    "else:\n",
    "    print(\"This construction works for all linearly independent b1, b2, b3 over the base field\")"
   ]
  },
  {
   "cell_type": "markdown",
   "id": "98e68b3e",
   "metadata": {},
   "source": [
    "## Testing\n",
    "\n",
    "These cells test if the elements `beta = (b1, b2, ...)` are powers of `z` in some order could work."
   ]
  },
  {
   "cell_type": "code",
   "execution_count": 11,
   "id": "ea5aabac",
   "metadata": {},
   "outputs": [
    {
     "name": "stdout",
     "output_type": "stream",
     "text": [
      "(1, z) works\n",
      "(z, 1) works\n"
     ]
    }
   ],
   "source": [
    "test_all_betas(4, 2)"
   ]
  },
  {
   "cell_type": "code",
   "execution_count": 12,
   "id": "1fb20b6f",
   "metadata": {},
   "outputs": [
    {
     "name": "stdout",
     "output_type": "stream",
     "text": [
      "(1, z) works\n",
      "(z, 1) works\n"
     ]
    }
   ],
   "source": [
    "test_all_betas(5, 3)"
   ]
  },
  {
   "cell_type": "code",
   "execution_count": 13,
   "id": "67de8cae",
   "metadata": {},
   "outputs": [
    {
     "name": "stdout",
     "output_type": "stream",
     "text": [
      "(1, z, z^2) does not work\n",
      "(1, z^2, z) works\n",
      "(z, 1, z^2) works\n",
      "(z, z^2, 1) works\n",
      "(z^2, 1, z) works\n",
      "(z^2, z, 1) does not work\n"
     ]
    }
   ],
   "source": [
    "test_all_betas(6, 3)"
   ]
  }
 ],
 "metadata": {
  "kernelspec": {
   "display_name": "SageMath 9.5",
   "language": "sage",
   "name": "sagemath"
  },
  "language_info": {
   "codemirror_mode": {
    "name": "ipython",
    "version": 3
   },
   "file_extension": ".py",
   "mimetype": "text/x-python",
   "name": "python",
   "nbconvert_exporter": "python",
   "pygments_lexer": "ipython3",
   "version": "3.10.12"
  }
 },
 "nbformat": 4,
 "nbformat_minor": 5
}
