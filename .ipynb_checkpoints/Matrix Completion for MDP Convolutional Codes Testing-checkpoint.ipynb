{
 "cells": [
  {
   "cell_type": "markdown",
   "id": "a2b26bff",
   "metadata": {},
   "source": [
    "# Matrix Completion for MDP Convolutional Codes\n",
    "\n",
    "This notebook has some useful functions for playing around with using ideas from matrix completion to construct MDP convolutional codes. The following cells contain some methods for creating the sliding truncated generator matrices and their associated _minor product polynomials_."
   ]
  },
  {
   "cell_type": "code",
   "execution_count": 247,
   "id": "eb330ac1",
   "metadata": {},
   "outputs": [],
   "source": [
    "from itertools import combinations\n",
    "\n",
    "def create_generator_matrix(G0, X=None):\n",
    "    \"\"\"\n",
    "    Create the generator matrix using G0 and X\n",
    "    \n",
    "    If X is not specified, it is set to contain indeterminates.\n",
    "    \"\"\"\n",
    "    \n",
    "    k, n = G0.dimensions()\n",
    "    \n",
    "    # if X is not provided, then it is set to contain k(n - k) indeterminates\n",
    "    # the indexing here is zero based\n",
    "    if X is None and k < n:\n",
    "        R = PolynomialRing(K, k, (n - k), var_array=\"x\")\n",
    "        x = R.gens()\n",
    "        X = matrix([x[i:i + n - k] for i in range(0, k * (n - k), n - k)])\n",
    "    \n",
    "    if k < n:\n",
    "        G1 = block_matrix([[X, zero_matrix(k, k)]])\n",
    "    else:\n",
    "        G1 = zero_matrix(k, k)\n",
    "    \n",
    "    G = block_matrix([[G0, G1], [0, G0]])\n",
    "    \n",
    "    return G\n",
    "    \n",
    "def minor_product_polynomial(G0, X=None):\n",
    "    \"\"\"\n",
    "    Compute the value of the minor product polynomial for G0 at X\n",
    "    \n",
    "    If X is not specified, it is set to contain indeterminates.\n",
    "    \"\"\"\n",
    "    \n",
    "    k, n = G0.dimensions()\n",
    "    G = create_generator_matrix(G0, X)\n",
    "    P = 1\n",
    "    \n",
    "    for i in range(k + 1):\n",
    "        for j in range(k, n + 1):\n",
    "            if i + j != 2*k:\n",
    "                continue\n",
    "            \n",
    "            for I in combinations(range(n), i):\n",
    "                for J in combinations(range(n, 2*n), j):\n",
    "                    \n",
    "                    # combine I and J as a union\n",
    "                    S = I + J\n",
    "                    M = G[:, S]\n",
    "                    P *= M.det()\n",
    "                    \n",
    "    return P\n",
    "\n",
    "def minor_product_polynomial_degree(n, k):\n",
    "    \"\"\"Compute the degree of the minor product polynomial for any k x n MDS matrix G0\"\"\"\n",
    "    \n",
    "    assert 0 <= k <= n\n",
    "    \n",
    "    d = 0\n",
    "    for i in range(k + 1):\n",
    "        for j in range(k, n + 1):\n",
    "                if i + j != 2*k:\n",
    "                    continue\n",
    "                \n",
    "                d += binomial(n, i) * binomial(n, j) * (j - k)\n",
    "    \n",
    "    return d\n",
    "\n",
    "def minor_product_polynomial_individual_degree(n, k):\n",
    "    \"\"\"\n",
    "    Compute (an upper bound on) the individual degree of any variable\n",
    "    in the minor product polynomial of any k x n MDS matrix G0\n",
    "    \"\"\"\n",
    "    \n",
    "    assert 0 <= k <= n\n",
    "    \n",
    "    d = 0\n",
    "    for i in range(k):\n",
    "        for j in range(k + 1, n + 1):\n",
    "                if i + j != 2*k:\n",
    "                    continue\n",
    "\n",
    "                d += binomial(n, i) * binomial(n - 1, j - 1)\n",
    "\n",
    "    return d\n",
    "\n",
    "def print_minors(G0, nonzero=True):\n",
    "    \"\"\"Compute the degree of the minor product polynomial for MDS matrix G0\"\"\"\n",
    "    \n",
    "    k, n = G0.dimensions()\n",
    "    G = create_generator_matrix(G0)\n",
    "    \n",
    "    for i in range(k + 1):\n",
    "        for j in range(k, n + 1):\n",
    "            if i + j != 2*k:\n",
    "                continue\n",
    "            \n",
    "            for I in combinations(range(n), i):\n",
    "                for J in combinations(range(n, 2*n), j):\n",
    "                    \n",
    "                    S = I + J\n",
    "                    M = G[:, S]\n",
    "                    \n",
    "                    # do sanity checks\n",
    "                    assert M.det().degree() == j - k\n",
    "                    assert M.det().is_homogeneous()\n",
    "                    \n",
    "                    if j - k != 0 or nonzero:\n",
    "                    \n",
    "                        print(M.det())\n",
    "                    \n",
    "def satisfies_condition(G0, X):\n",
    "    \"\"\"\n",
    "    Check if G0 and X satisfy the condition for MDP convolutional codes\n",
    "    \n",
    "    `satisfies_condition(G0, X)` is equivalent to\n",
    "    `minor_product_polynomial(G0, X) != 0`, but should be significantly faster\n",
    "    \"\"\"\n",
    "    \n",
    "    k, n = G0.dimensions()\n",
    "    G = create_generator_matrix(G0, X)\n",
    "    \n",
    "    for i in range(k + 1):\n",
    "        for j in range(k, n + 1):\n",
    "            if i + j != 2*k:\n",
    "                continue\n",
    "            \n",
    "            for I in combinations(range(n), i):\n",
    "                for J in combinations(range(n, 2*n), j):\n",
    "                    \n",
    "                    S = I + J\n",
    "                    M = G[:, S]\n",
    "                    if M.rank() != 2*k:\n",
    "                        return False\n",
    "                    \n",
    "    return True\n",
    "\n",
    "def find_random_solution(G0, num_tries=10_000, seed=1):\n",
    "    \"\"\"\n",
    "    Find a solution for X by using random sampling\n",
    "    \n",
    "    This will only do 10,000 tries before raising an exception.\n",
    "    The random seed is set so that it produces reproducible results.\n",
    "    \"\"\"\n",
    "    \n",
    "    set_random_seed(seed)\n",
    "    \n",
    "    k, n = G0.dimensions()\n",
    "    K = G0.base_ring()\n",
    "\n",
    "    for _ in range(num_tries):\n",
    "\n",
    "        X = random_matrix(K, k, (n - k))\n",
    "\n",
    "        if satisfies_condition(G0, X):\n",
    "            G = create_generator_matrix(G0, X)\n",
    "            return G\n",
    "    \n",
    "    raise Exception(f\"did not find a solution in {num_tries} tries\")\n",
    "    \n",
    "def brute_force_solution(G0, K=None):\n",
    "    \"\"\"Find a solution for X by going through all possibilities\"\"\"\n",
    "    \n",
    "    k, n = G0.dimensions()\n",
    "    if K is None:\n",
    "        K = G0.base_ring()\n",
    "\n",
    "    for X in MatrixSpace(K, k, (n - k)):\n",
    "\n",
    "        if satisfies_condition(G0, X):\n",
    "            G = create_generator_matrix(G0, X)\n",
    "            return G\n",
    "    \n",
    "    raise Exception(f\"solution does not exist over this field\")"
   ]
  },
  {
   "cell_type": "code",
   "execution_count": 215,
   "id": "296821ef",
   "metadata": {},
   "outputs": [],
   "source": [
    "# Create n x m Cauchy and Vandermonde matrices over any field K\n",
    "\n",
    "def cauchy_matrix(K, n, m):\n",
    "    \"\"\"\n",
    "    Create a n x m Cauchy matrix over the field K\n",
    "    \n",
    "    The field K has to have at least n + m elements.\n",
    "    \"\"\"\n",
    "    \n",
    "    assert K.order() >= n + m\n",
    "    x = K.list()[:n]\n",
    "    y = K.list()[n:n+m]\n",
    "    \n",
    "    return matrix(n, m, lambda i, j: 1 / (x[i] - y[j]))\n",
    "\n",
    "def vandermonde_matrix(K, n, m):\n",
    "    \"\"\"\n",
    "    Create a n x m Vandermonde matrix over the field K\n",
    "    \n",
    "    The field K has to have at least m elements.\n",
    "    \"\"\"\n",
    "    \n",
    "    assert K.order() >= m\n",
    "    \n",
    "    return matrix.vandermonde(K.list()[:m]).T[:n]\n",
    "\n",
    "def is_mds(G):\n",
    "    \"\"\"Check if the matrix generates an MDS code\"\"\"\n",
    "    \n",
    "    C = LinearCode(G)\n",
    "    \n",
    "    return C.minimum_distance() == C.length() - C.dimension() + 1"
   ]
  },
  {
   "cell_type": "markdown",
   "id": "ce60fe3b",
   "metadata": {},
   "source": [
    "## Minor product polynomial\n",
    "\n",
    "The next example shows how to compute the minor product polynomial for a very simple case."
   ]
  },
  {
   "cell_type": "code",
   "execution_count": 57,
   "id": "7608ada3",
   "metadata": {},
   "outputs": [],
   "source": [
    "def minor_product_polynomial_degree_terms(n, k):\n",
    "\n",
    "    assert 0 <= k <= n\n",
    "    \n",
    "    terms = {}\n",
    "    for i in range(k + 1):\n",
    "        for j in range(k, n + 1):\n",
    "                if i + j != 2*k:\n",
    "                    continue\n",
    "\n",
    "                terms[j - k] = binomial(n, i) * binomial(n, j)\n",
    "\n",
    "    return terms"
   ]
  },
  {
   "cell_type": "code",
   "execution_count": 269,
   "id": "9392dcd3",
   "metadata": {},
   "outputs": [
    {
     "data": {
      "text/plain": [
       "[ -4  -3   2  -2   3|x00 x01   0   0   0]\n",
       "[  5  -4  -3   2  -2|x10 x11   0   0   0]\n",
       "[ -1   5  -4  -3   2|x20 x21   0   0   0]\n",
       "[-------------------+-------------------]\n",
       "[  0   0   0   0   0| -4  -3   2  -2   3]\n",
       "[  0   0   0   0   0|  5  -4  -3   2  -2]\n",
       "[  0   0   0   0   0| -1   5  -4  -3   2]"
      ]
     },
     "execution_count": 269,
     "metadata": {},
     "output_type": "execute_result"
    }
   ],
   "source": [
    "n, k = 5, 3\n",
    "K = GF(11)\n",
    "\n",
    "G0 = cauchy_matrix(K, k, n)\n",
    "create_generator_matrix(G0)"
   ]
  },
  {
   "cell_type": "code",
   "execution_count": 271,
   "id": "669fd854",
   "metadata": {},
   "outputs": [],
   "source": [
    "G = brute_force_solution(G0)"
   ]
  },
  {
   "cell_type": "code",
   "execution_count": 263,
   "id": "70f4bf88",
   "metadata": {},
   "outputs": [
    {
     "name": "stdout",
     "output_type": "stream",
     "text": [
      "-2*x11*x20 + 2*x10*x21\n",
      "-2*x01*x10 + 2*x00*x11 + 2*x01*x20 - 2*x11*x20 - 2*x00*x21 + 2*x10*x21\n",
      "2*x01*x10 - 2*x00*x11 - x01*x20 - 2*x11*x20 + x00*x21 + 2*x10*x21\n",
      "2*x01*x10 - 2*x00*x11 + x01*x20 - 2*x11*x20 - x00*x21 + 2*x10*x21\n",
      "-2*x01*x10 + 2*x00*x11 - 2*x01*x20 - 2*x11*x20 + 2*x00*x21 + 2*x10*x21\n",
      "-2*x10 + x11 + 2*x20 - x21\n",
      "-x10 + x11 + x20 - x21\n",
      "-x10 + 2*x11 + x20 - 2*x21\n",
      "-2*x10 + 2*x20\n",
      "-2*x11 + 2*x21\n",
      "2*x10 - x11 - x20 - 2*x21\n",
      "x10 - x11 + 2*x20 - 2*x21\n",
      "x10 - 2*x11 + 2*x20 + x21\n",
      "2*x10 - x20\n",
      "2*x11 - x21\n",
      "2*x10 - x11 + x20 + 2*x21\n",
      "x10 - x11 - 2*x20 + 2*x21\n",
      "x10 - 2*x11 - 2*x20 - x21\n",
      "2*x10 + x20\n",
      "2*x11 + x21\n",
      "-2*x10 + x11 - 2*x20 + x21\n",
      "-x10 + x11 - x20 + x21\n",
      "-x10 + 2*x11 - x20 + 2*x21\n",
      "-2*x10 - 2*x20\n",
      "-2*x11 - 2*x21\n",
      "-x00 - 2*x01 - x10 - 2*x11 + 2*x20 - x21\n",
      "2*x00 - 2*x01 + 2*x10 - 2*x11 + x20 - x21\n",
      "2*x00 + x01 + 2*x10 + x11 + x20 - 2*x21\n",
      "-x00 - x10 + 2*x20\n",
      "-x01 - x11 + 2*x21\n",
      "2*x00 - x01 - x10 - 2*x11 - x20 - 2*x21\n",
      "x00 - x01 + 2*x10 - 2*x11 + 2*x20 - 2*x21\n",
      "x00 - 2*x01 + 2*x10 + x11 + 2*x20 + x21\n",
      "2*x00 - x10 - x20\n",
      "2*x01 - x11 - x21\n",
      "-x00 - 2*x01 + x20 + 2*x21\n",
      "2*x00 - 2*x01 - 2*x20 + 2*x21\n",
      "2*x00 + x01 - 2*x20 - x21\n",
      "-x00 + x20\n",
      "-x01 + x21\n",
      "2*x00 - x01 + 2*x20 - x21\n",
      "x00 - x01 + x20 - x21\n",
      "x00 - 2*x01 + x20 - 2*x21\n",
      "2*x00 + 2*x20\n",
      "2*x01 + 2*x21\n",
      "2*x00 - x01 + x10 + 2*x11 - x20 - 2*x21\n",
      "x00 - x01 - 2*x10 + 2*x11 + 2*x20 - 2*x21\n",
      "x00 - 2*x01 - 2*x10 - x11 + 2*x20 + x21\n",
      "2*x00 + x10 - x20\n",
      "2*x01 + x11 - x21\n",
      "-x00 - 2*x01 + x10 + 2*x11 + 2*x20 - x21\n",
      "2*x00 - 2*x01 - 2*x10 + 2*x11 + x20 - x21\n",
      "2*x00 + x01 - 2*x10 - x11 + x20 - 2*x21\n",
      "-x00 + x10 + 2*x20\n",
      "-x01 + x11 + 2*x21\n"
     ]
    }
   ],
   "source": [
    "print_minors(G0, nonzero=False)"
   ]
  },
  {
   "cell_type": "code",
   "execution_count": 244,
   "id": "84d4de9b",
   "metadata": {},
   "outputs": [
    {
     "data": {
      "text/plain": [
       "5883180"
      ]
     },
     "execution_count": 244,
     "metadata": {},
     "output_type": "execute_result"
    }
   ],
   "source": [
    "P = minor_product_polynomial(G0)\n",
    "len(P.exponents())"
   ]
  },
  {
   "cell_type": "code",
   "execution_count": 245,
   "id": "7978d633",
   "metadata": {},
   "outputs": [],
   "source": [
    "smallest = None\n",
    "\n",
    "for e in P.exponents():\n",
    "    smallest = e if smallest is None else min(e, smallest, key=max)"
   ]
  },
  {
   "cell_type": "code",
   "execution_count": 246,
   "id": "d7ee84ff",
   "metadata": {},
   "outputs": [
    {
     "data": {
      "text/plain": [
       "(5, 11, 11, 11, 11, 11)"
      ]
     },
     "execution_count": 246,
     "metadata": {},
     "output_type": "execute_result"
    }
   ],
   "source": [
    "smallest"
   ]
  },
  {
   "cell_type": "code",
   "execution_count": 251,
   "id": "a21ac273",
   "metadata": {},
   "outputs": [
    {
     "data": {
      "text/plain": [
       "[      z2        1   z2 + 2 2*z2 + 2     2*z2|  z2 + 1 2*z2 + 1        0        0        0]\n",
       "[  z2 + 1 2*z2 + 2 2*z2 + 1     2*z2        1|      z2       z2        0        0        0]\n",
       "[2*z2 + 1       z2     2*z2   z2 + 1        2|2*z2 + 1     2*z2        0        0        0]\n",
       "[--------------------------------------------+--------------------------------------------]\n",
       "[       0        0        0        0        0|      z2        1   z2 + 2 2*z2 + 2     2*z2]\n",
       "[       0        0        0        0        0|  z2 + 1 2*z2 + 2 2*z2 + 1     2*z2        1]\n",
       "[       0        0        0        0        0|2*z2 + 1       z2     2*z2   z2 + 1        2]"
      ]
     },
     "execution_count": 251,
     "metadata": {},
     "output_type": "execute_result"
    }
   ],
   "source": [
    "# solution over GF(9)\n",
    "brute_force_solution(G0)"
   ]
  },
  {
   "cell_type": "markdown",
   "id": "4a4040c3",
   "metadata": {},
   "source": [
    "## Degree of minor product polynomial\n",
    "\n",
    "With the below cell we can verify that the degree of the minor product polynomial is the same for the dual code dimension."
   ]
  },
  {
   "cell_type": "code",
   "execution_count": 4,
   "id": "f62d0ab3",
   "metadata": {},
   "outputs": [],
   "source": [
    "# the degree of the minor product polynomial is the same for the dual dimension\n",
    "for n in range(1, 11):\n",
    "    for k in range(n + 1):\n",
    "        assert minor_product_polynomial_degree(n, k) == minor_product_polynomial_degree(n, n - k)"
   ]
  },
  {
   "cell_type": "markdown",
   "id": "9a318ff4",
   "metadata": {},
   "source": [
    "## Minors are nonzero\n",
    "\n",
    "The following cells show that the minor polynomials are nonzero by choosing a suitable evaluation."
   ]
  },
  {
   "cell_type": "code",
   "execution_count": 5,
   "id": "7a355bde",
   "metadata": {},
   "outputs": [
    {
     "name": "stdout",
     "output_type": "stream",
     "text": [
      "Defining x00, x01, x02, x10, x11, x12, x20, x21, x22\n",
      "[  1 x00 x01 x02   0   0]\n",
      "[ -8 x10 x11 x12   0   0]\n",
      "[  6 x20 x21 x22   0   0]\n",
      "[  0   1  -8   6  -4   7]\n",
      "[  0  -8   6  -4   7   3]\n",
      "[  0   6  -4   7   3   5]\n",
      "-8*x01*x10 - 8*x02*x10 + 8*x00*x11 - 4*x02*x11 + 8*x00*x12 + 4*x01*x12 - 5*x01*x20 - 5*x02*x20 - 7*x11*x20 - 7*x12*x20 + 5*x00*x21 + 6*x02*x21 + 7*x10*x21 + 5*x12*x21 + 5*x00*x22 - 6*x01*x22 + 7*x10*x22 - 5*x11*x22\n"
     ]
    }
   ],
   "source": [
    "# create one of the 2k x 2k submatrices, denoted by M, and compute its determinant\n",
    "n, k = 6, 3\n",
    "K = GF(17)\n",
    "\n",
    "G0 = cauchy_matrix(K, k, n)\n",
    "\n",
    "G = create_generator_matrix(G0)\n",
    "M = G[:, [0, 6, 7, 8, 9, 10]]\n",
    "M.base_ring().inject_variables()\n",
    "print(M)\n",
    "print(M.det())"
   ]
  },
  {
   "cell_type": "code",
   "execution_count": 6,
   "id": "c507a051",
   "metadata": {},
   "outputs": [
    {
     "name": "stdout",
     "output_type": "stream",
     "text": [
      "[ 1  1  0  0  0  0]\n",
      "[-8  0  1  0  0  0]\n",
      "[ 6  0  0  0  0  0]\n",
      "[ 0  1 -8  6 -4  7]\n",
      "[ 0 -8  6 -4  7  3]\n",
      "[ 0  6 -4  7  3  5]\n",
      "8\n"
     ]
    }
   ],
   "source": [
    "# the following evaluation shows that the polynomial M.det() is nonzero\n",
    "M_eval = M.subs({x00: 1, x01: 0, x02: 0, x10: 0, x11: 1, x12: 0, x20: 0, x21: 0, x22: 0})\n",
    "print(M_eval)\n",
    "print(M_eval.det())"
   ]
  },
  {
   "cell_type": "markdown",
   "id": "973194d4",
   "metadata": {},
   "source": [
    "## Required field size\n",
    "\n",
    "The next cells show how large the field size needs to be for some small parameters."
   ]
  },
  {
   "cell_type": "code",
   "execution_count": 7,
   "id": "9ad7b369",
   "metadata": {},
   "outputs": [
    {
     "name": "stdout",
     "output_type": "stream",
     "text": [
      "[3, 1] : 3\n",
      "[3, 2] : 4\n",
      "\n",
      "[4, 1] : 4\n",
      "[4, 2] : 16\n",
      "[4, 3] : 7\n",
      "\n",
      "[5, 1] : 5\n",
      "[5, 2] : 37\n",
      "[5, 3] : 47\n",
      "[5, 4] : 11\n",
      "\n",
      "[6, 1] : 7\n",
      "[6, 2] : 71\n",
      "[6, 3] : 191\n",
      "[6, 4] : 121\n",
      "[6, 5] : 16\n",
      "\n",
      "[7, 1] : 7\n",
      "[7, 2] : 127\n",
      "[7, 3] : 541\n",
      "[7, 4] : 659\n",
      "[7, 5] : 251\n",
      "[7, 6] : 23\n",
      "\n"
     ]
    }
   ],
   "source": [
    "for n in range(3, 8):\n",
    "    for k in range(1, n):\n",
    "        print(f\"[{n}, {k}] :\", next_prime_power(minor_product_polynomial_individual_degree(n, k)))\n",
    "    print()"
   ]
  },
  {
   "cell_type": "code",
   "execution_count": 296,
   "id": "cbcd65a4",
   "metadata": {},
   "outputs": [
    {
     "data": {
      "text/plain": [
       "[ 1  0  0  0 36 33]\n",
       "[ 0  1  0  0  4 15]\n",
       "[ 0  0  1  0 31 17]\n",
       "[ 0  0  0  1  4 10]"
      ]
     },
     "execution_count": 296,
     "metadata": {},
     "output_type": "execute_result"
    }
   ],
   "source": [
    "n, k = 6, 4\n",
    "q = 37\n",
    "K = GF(q)\n",
    "\n",
    "G0 = vandermonde_matrix(K, k, n).rref(); G0"
   ]
  },
  {
   "cell_type": "code",
   "execution_count": 297,
   "id": "2e4e3e03",
   "metadata": {},
   "outputs": [
    {
     "data": {
      "text/plain": [
       "[ 1  0  0  0 36 33|11  8  0  0  0  0]\n",
       "[ 0  1  0  0  4 15|16 32  0  0  0  0]\n",
       "[ 0  0  1  0 31 17| 2 12  0  0  0  0]\n",
       "[ 0  0  0  1  4 10|34 20  0  0  0  0]\n",
       "[-----------------+-----------------]\n",
       "[ 0  0  0  0  0  0| 1  0  0  0 36 33]\n",
       "[ 0  0  0  0  0  0| 0  1  0  0  4 15]\n",
       "[ 0  0  0  0  0  0| 0  0  1  0 31 17]\n",
       "[ 0  0  0  0  0  0| 0  0  0  1  4 10]"
      ]
     },
     "execution_count": 297,
     "metadata": {},
     "output_type": "execute_result"
    }
   ],
   "source": [
    "G = find_random_solution(G0); G"
   ]
  },
  {
   "cell_type": "code",
   "execution_count": 502,
   "id": "a6023713",
   "metadata": {},
   "outputs": [],
   "source": [
    "z = polygen(K, \"z\")\n",
    "M = G[:k, :n] + z*G[:k,n:2*n]"
   ]
  },
  {
   "cell_type": "code",
   "execution_count": 299,
   "id": "1e2b6221",
   "metadata": {},
   "outputs": [],
   "source": [
    "def degree(M):\n",
    "    k, n = M.dimensions()\n",
    "    \n",
    "    d = 0\n",
    "    for I in combinations(range(n), k):\n",
    "        d = max(d, M[:, list(I)].det().degree())\n",
    "    \n",
    "    return d\n",
    "\n",
    "def L(M):\n",
    "    k, n = M.dimensions()\n",
    "    delta = degree(M)\n",
    "    return floor(delta / k) + floor(delta / (n - k))"
   ]
  },
  {
   "cell_type": "code",
   "execution_count": 300,
   "id": "18e3fc75",
   "metadata": {},
   "outputs": [
    {
     "data": {
      "text/plain": [
       "(2, 1)"
      ]
     },
     "execution_count": 300,
     "metadata": {},
     "output_type": "execute_result"
    }
   ],
   "source": [
    "degree(M), L(M)"
   ]
  },
  {
   "cell_type": "code",
   "execution_count": 312,
   "id": "d5df5f06",
   "metadata": {},
   "outputs": [
    {
     "data": {
      "text/plain": [
       "[18*z^3 + 25*z^2 + 2*z + 1      30*z^3 + 4*z^2 + 4*z                         0        4*z^3 + 8*z^2 + 29]\n",
       "[            33*z^2 + 21*z          18*z^2 + 5*z + 1                         0             32*z^2 + 16*z]\n",
       "[                     31*z                      27*z                         1                 11*z + 11]\n",
       "[             15*z^2 + 5*z             25*z^2 + 16*z                         0        28*z^2 + 10*z + 14]"
      ]
     },
     "execution_count": 312,
     "metadata": {},
     "output_type": "execute_result"
    }
   ],
   "source": [
    "H, U = M.hermite_form(transformation=True); U"
   ]
  },
  {
   "cell_type": "code",
   "execution_count": 304,
   "id": "7a3b9e98",
   "metadata": {},
   "outputs": [
    {
     "data": {
      "text/plain": [
       "[11*z + 1      8*z        0        0       36       33]\n",
       "[    16*z 32*z + 1        0        0        4       15]\n",
       "[     2*z     12*z        1        0       31       17]\n",
       "[    34*z     20*z        0        1        4       10]"
      ]
     },
     "execution_count": 304,
     "metadata": {},
     "output_type": "execute_result"
    }
   ],
   "source": [
    "M"
   ]
  },
  {
   "cell_type": "code",
   "execution_count": 305,
   "id": "04db51c0",
   "metadata": {},
   "outputs": [
    {
     "name": "stdout",
     "output_type": "stream",
     "text": [
      "Help on built-in function hermite_form:\n",
      "\n",
      "hermite_form(...) method of sage.matrix.matrix_polynomial_dense.Matrix_polynomial_dense instance\n",
      "    Matrix_polynomial_dense.hermite_form(self, include_zero_rows=True, transformation=False)\n",
      "    File: sage/matrix/matrix_polynomial_dense.pyx (starting at line 1397)\n",
      "    \n",
      "            Return the Hermite form of this matrix.\n",
      "    \n",
      "            The Hermite form is also normalized, i.e., the pivot polynomials\n",
      "            are monic.\n",
      "    \n",
      "            INPUT:\n",
      "    \n",
      "            - ``include_zero_rows`` -- boolean (default: ``True``); if ``False``,\n",
      "              the zero rows in the output matrix are deleted\n",
      "    \n",
      "            - ``transformation`` -- boolean (default: ``False``); if ``True``,\n",
      "              return the transformation matrix\n",
      "    \n",
      "            OUTPUT:\n",
      "    \n",
      "            - the Hermite normal form `H` of this matrix `A`\n",
      "    \n",
      "            - (optional) transformation matrix `U` such that `UA = H`\n",
      "     \n",
      "            EXAMPLES::\n",
      "    \n",
      "                sage: M.<x> = GF(7)[]\n",
      "                sage: A = matrix(M, 2, 3, [x, 1, 2*x, x, 1+x, 2])\n",
      "                sage: A.hermite_form()\n",
      "                [      x       1     2*x]\n",
      "                [      0       x 5*x + 2]\n",
      "                sage: A.hermite_form(transformation=True)\n",
      "                (\n",
      "                [      x       1     2*x]  [1 0]\n",
      "                [      0       x 5*x + 2], [6 1]\n",
      "                )\n",
      "                sage: A = matrix(M, 2, 3, [x, 1, 2*x, 2*x, 2, 4*x])\n",
      "                sage: A.hermite_form(transformation=True, include_zero_rows=False)\n",
      "                ([  x   1 2*x], [0 4])\n",
      "                sage: H, U = A.hermite_form(transformation=True, include_zero_rows=True); H, U\n",
      "                (\n",
      "                [  x   1 2*x]  [0 4]\n",
      "                [  0   0   0], [5 1]\n",
      "                )\n",
      "                sage: U * A == H\n",
      "                True\n",
      "                sage: H, U = A.hermite_form(transformation=True, include_zero_rows=False)\n",
      "                sage: U * A\n",
      "                [  x   1 2*x]\n",
      "                sage: U * A == H\n",
      "                True\n",
      "    \n",
      "            .. SEEALSO::\n",
      "            \n",
      "                :meth:`is_hermite` .\n",
      "\n"
     ]
    }
   ],
   "source": [
    "help(M.hermite_form)"
   ]
  },
  {
   "cell_type": "code",
   "execution_count": 476,
   "id": "1328de92",
   "metadata": {},
   "outputs": [
    {
     "data": {
      "text/plain": [
       "[  z^3 + z^2 + z + 1                   0]\n",
       "[z^4 + z^3 + 2*z + 2                   1]"
      ]
     },
     "execution_count": 476,
     "metadata": {},
     "output_type": "execute_result"
    }
   ],
   "source": [
    "z = polygen(GF(3), \"z\")\n",
    "M = matrix([[(z + 1) * (z^2 + 1), 0], [(z + 1)*(z^3 + 2), 1]]); M"
   ]
  },
  {
   "cell_type": "code",
   "execution_count": 477,
   "id": "1b4362a4",
   "metadata": {},
   "outputs": [],
   "source": [
    "H, U = M.hermite_form(transformation=True)"
   ]
  },
  {
   "cell_type": "code",
   "execution_count": 478,
   "id": "51a6055a",
   "metadata": {},
   "outputs": [
    {
     "data": {
      "text/plain": [
       "(\n",
       "[  z + 1 2*z + 1]  [z^2 + 2*z + 2       2*z + 1]\n",
       "[      0 z^2 + 1], [    2*z^3 + 1       z^2 + 1]\n",
       ")"
      ]
     },
     "execution_count": 478,
     "metadata": {},
     "output_type": "execute_result"
    }
   ],
   "source": [
    "H, U"
   ]
  },
  {
   "cell_type": "code",
   "execution_count": 480,
   "id": "ea671661",
   "metadata": {},
   "outputs": [
    {
     "data": {
      "text/plain": [
       "(z^3 + z^2 + z + 1, z^4 + z^3 + 2*z + 2)"
      ]
     },
     "execution_count": 480,
     "metadata": {},
     "output_type": "execute_result"
    }
   ],
   "source": [
    "p = M[0, 0]\n",
    "q = M[1, 0]\n",
    "p, q"
   ]
  },
  {
   "cell_type": "code",
   "execution_count": 419,
   "id": "1c75382b",
   "metadata": {},
   "outputs": [
    {
     "ename": "AssertionError",
     "evalue": "",
     "output_type": "error",
     "traceback": [
      "\u001b[0;31m---------------------------------------------------------------------------\u001b[0m",
      "\u001b[0;31mAssertionError\u001b[0m                            Traceback (most recent call last)",
      "\u001b[0;32m<ipython-input-419-3fff98276a91>\u001b[0m in \u001b[0;36m<module>\u001b[0;34m\u001b[0m\n\u001b[1;32m      1\u001b[0m \u001b[0mM\u001b[0m \u001b[0;34m=\u001b[0m \u001b[0mrandom_matrix\u001b[0m\u001b[0;34m(\u001b[0m\u001b[0mPolynomialRing\u001b[0m\u001b[0;34m(\u001b[0m\u001b[0mGF\u001b[0m\u001b[0;34m(\u001b[0m\u001b[0mInteger\u001b[0m\u001b[0;34m(\u001b[0m\u001b[0;36m3\u001b[0m\u001b[0;34m)\u001b[0m\u001b[0;34m)\u001b[0m\u001b[0;34m,\u001b[0m \u001b[0;34m\"z\"\u001b[0m\u001b[0;34m)\u001b[0m\u001b[0;34m,\u001b[0m \u001b[0mInteger\u001b[0m\u001b[0;34m(\u001b[0m\u001b[0;36m2\u001b[0m\u001b[0;34m)\u001b[0m\u001b[0;34m,\u001b[0m \u001b[0mInteger\u001b[0m\u001b[0;34m(\u001b[0m\u001b[0;36m2\u001b[0m\u001b[0;34m)\u001b[0m\u001b[0;34m)\u001b[0m\u001b[0;34m\u001b[0m\u001b[0;34m\u001b[0m\u001b[0m\n\u001b[1;32m      2\u001b[0m \u001b[0mH\u001b[0m \u001b[0;34m=\u001b[0m \u001b[0mM\u001b[0m\u001b[0;34m.\u001b[0m\u001b[0mhermite_form\u001b[0m\u001b[0;34m(\u001b[0m\u001b[0;34m)\u001b[0m\u001b[0;34m\u001b[0m\u001b[0;34m\u001b[0m\u001b[0m\n\u001b[0;32m----> 3\u001b[0;31m \u001b[0;32massert\u001b[0m \u001b[0mgcd\u001b[0m\u001b[0;34m(\u001b[0m\u001b[0mM\u001b[0m\u001b[0;34m[\u001b[0m\u001b[0mInteger\u001b[0m\u001b[0;34m(\u001b[0m\u001b[0;36m0\u001b[0m\u001b[0;34m)\u001b[0m\u001b[0;34m,\u001b[0m \u001b[0mInteger\u001b[0m\u001b[0;34m(\u001b[0m\u001b[0;36m0\u001b[0m\u001b[0;34m)\u001b[0m\u001b[0;34m]\u001b[0m\u001b[0;34m,\u001b[0m \u001b[0mM\u001b[0m\u001b[0;34m[\u001b[0m\u001b[0mInteger\u001b[0m\u001b[0;34m(\u001b[0m\u001b[0;36m1\u001b[0m\u001b[0;34m)\u001b[0m\u001b[0;34m,\u001b[0m \u001b[0mInteger\u001b[0m\u001b[0;34m(\u001b[0m\u001b[0;36m0\u001b[0m\u001b[0;34m)\u001b[0m\u001b[0;34m]\u001b[0m\u001b[0;34m)\u001b[0m \u001b[0;34m==\u001b[0m \u001b[0mH\u001b[0m\u001b[0;34m[\u001b[0m\u001b[0mInteger\u001b[0m\u001b[0;34m(\u001b[0m\u001b[0;36m0\u001b[0m\u001b[0;34m)\u001b[0m\u001b[0;34m,\u001b[0m \u001b[0mInteger\u001b[0m\u001b[0;34m(\u001b[0m\u001b[0;36m0\u001b[0m\u001b[0;34m)\u001b[0m\u001b[0;34m]\u001b[0m\u001b[0;34m\u001b[0m\u001b[0;34m\u001b[0m\u001b[0m\n\u001b[0m",
      "\u001b[0;31mAssertionError\u001b[0m: "
     ]
    }
   ],
   "source": [
    "M = random_matrix(PolynomialRing(GF(3), \"z\"), 2, 2)\n",
    "H = M.hermite_form()\n",
    "assert gcd(M[0, 0], M[1, 0]) == H[0, 0]"
   ]
  },
  {
   "cell_type": "code",
   "execution_count": 420,
   "id": "0f6ef619",
   "metadata": {},
   "outputs": [
    {
     "data": {
      "text/plain": [
       "[              0           z + 2]\n",
       "[2*z^2 + 2*z + 2           2*z^2]"
      ]
     },
     "execution_count": 420,
     "metadata": {},
     "output_type": "execute_result"
    }
   ],
   "source": [
    "M"
   ]
  },
  {
   "cell_type": "code",
   "execution_count": 421,
   "id": "4f75d55c",
   "metadata": {},
   "outputs": [
    {
     "data": {
      "text/plain": [
       "[z^2 + z + 1           1]\n",
       "[          0       z + 2]"
      ]
     },
     "execution_count": 421,
     "metadata": {},
     "output_type": "execute_result"
    }
   ],
   "source": [
    "H"
   ]
  },
  {
   "cell_type": "code",
   "execution_count": 422,
   "id": "efc464d8",
   "metadata": {},
   "outputs": [
    {
     "data": {
      "text/plain": [
       "2*z^2 + 2*z + 2"
      ]
     },
     "execution_count": 422,
     "metadata": {},
     "output_type": "execute_result"
    }
   ],
   "source": [
    "gcd(M[0, 0], M[1, 0])"
   ]
  },
  {
   "cell_type": "code",
   "execution_count": 424,
   "id": "f0437a2f",
   "metadata": {},
   "outputs": [
    {
     "data": {
      "text/plain": [
       "<class 'int'>"
      ]
     },
     "execution_count": 424,
     "metadata": {},
     "output_type": "execute_result"
    }
   ],
   "source": [
    "type(int(0))"
   ]
  },
  {
   "cell_type": "code",
   "execution_count": 484,
   "id": "b509cb48",
   "metadata": {},
   "outputs": [
    {
     "name": "stdout",
     "output_type": "stream",
     "text": [
      "Help on built-in function hermite_form:\n",
      "\n",
      "hermite_form(...) method of sage.matrix.matrix_polynomial_dense.Matrix_polynomial_dense instance\n",
      "    Matrix_polynomial_dense.hermite_form(self, include_zero_rows=True, transformation=False)\n",
      "    File: sage/matrix/matrix_polynomial_dense.pyx (starting at line 1397)\n",
      "    \n",
      "            Return the Hermite form of this matrix.\n",
      "    \n",
      "            The Hermite form is also normalized, i.e., the pivot polynomials\n",
      "            are monic.\n",
      "    \n",
      "            INPUT:\n",
      "    \n",
      "            - ``include_zero_rows`` -- boolean (default: ``True``); if ``False``,\n",
      "              the zero rows in the output matrix are deleted\n",
      "    \n",
      "            - ``transformation`` -- boolean (default: ``False``); if ``True``,\n",
      "              return the transformation matrix\n",
      "    \n",
      "            OUTPUT:\n",
      "    \n",
      "            - the Hermite normal form `H` of this matrix `A`\n",
      "    \n",
      "            - (optional) transformation matrix `U` such that `UA = H`\n",
      "     \n",
      "            EXAMPLES::\n",
      "    \n",
      "                sage: M.<x> = GF(7)[]\n",
      "                sage: A = matrix(M, 2, 3, [x, 1, 2*x, x, 1+x, 2])\n",
      "                sage: A.hermite_form()\n",
      "                [      x       1     2*x]\n",
      "                [      0       x 5*x + 2]\n",
      "                sage: A.hermite_form(transformation=True)\n",
      "                (\n",
      "                [      x       1     2*x]  [1 0]\n",
      "                [      0       x 5*x + 2], [6 1]\n",
      "                )\n",
      "                sage: A = matrix(M, 2, 3, [x, 1, 2*x, 2*x, 2, 4*x])\n",
      "                sage: A.hermite_form(transformation=True, include_zero_rows=False)\n",
      "                ([  x   1 2*x], [0 4])\n",
      "                sage: H, U = A.hermite_form(transformation=True, include_zero_rows=True); H, U\n",
      "                (\n",
      "                [  x   1 2*x]  [0 4]\n",
      "                [  0   0   0], [5 1]\n",
      "                )\n",
      "                sage: U * A == H\n",
      "                True\n",
      "                sage: H, U = A.hermite_form(transformation=True, include_zero_rows=False)\n",
      "                sage: U * A\n",
      "                [  x   1 2*x]\n",
      "                sage: U * A == H\n",
      "                True\n",
      "    \n",
      "            .. SEEALSO::\n",
      "            \n",
      "                :meth:`is_hermite` .\n",
      "\n"
     ]
    }
   ],
   "source": [
    "help(M.hermite_form)"
   ]
  },
  {
   "cell_type": "code",
   "execution_count": 427,
   "id": "78d30eae",
   "metadata": {},
   "outputs": [
    {
     "ename": "AssertionError",
     "evalue": "",
     "output_type": "error",
     "traceback": [
      "\u001b[0;31m---------------------------------------------------------------------------\u001b[0m",
      "\u001b[0;31mAssertionError\u001b[0m                            Traceback (most recent call last)",
      "\u001b[0;32m<ipython-input-427-f0ecd232f207>\u001b[0m in \u001b[0;36m<module>\u001b[0;34m\u001b[0m\n\u001b[0;32m----> 1\u001b[0;31m \u001b[0;32massert\u001b[0m \u001b[0;34m(\u001b[0m\u001b[0mellipsis_range\u001b[0m\u001b[0;34m(\u001b[0m\u001b[0mInteger\u001b[0m\u001b[0;34m(\u001b[0m\u001b[0;36m1\u001b[0m\u001b[0;34m)\u001b[0m\u001b[0;34m,\u001b[0m\u001b[0mEllipsis\u001b[0m\u001b[0;34m,\u001b[0m\u001b[0mInteger\u001b[0m\u001b[0;34m(\u001b[0m\u001b[0;36m10\u001b[0m\u001b[0;34m)\u001b[0m\u001b[0;34m)\u001b[0m\u001b[0;34m)\u001b[0m \u001b[0;34m==\u001b[0m \u001b[0mInteger\u001b[0m\u001b[0;34m(\u001b[0m\u001b[0;36m0\u001b[0m\u001b[0;34m)\u001b[0m\u001b[0;34m\u001b[0m\u001b[0;34m\u001b[0m\u001b[0m\n\u001b[0m",
      "\u001b[0;31mAssertionError\u001b[0m: "
     ]
    }
   ],
   "source": [
    "assert [1..10] == 0"
   ]
  },
  {
   "cell_type": "code",
   "execution_count": 428,
   "id": "380a74ab",
   "metadata": {},
   "outputs": [
    {
     "name": "stdout",
     "output_type": "stream",
     "text": [
      "Help on built-in function ellipsis_range in module sage.arith.srange:\n",
      "\n",
      "ellipsis_range(...)\n",
      "    ellipsis_range(*args, step=None)\n",
      "    File: sage/arith/srange.pyx (starting at line 445)\n",
      "    \n",
      "        Return arithmetic sequence determined by the numeric arguments and\n",
      "        ellipsis. Best illustrated by examples.\n",
      "    \n",
      "        Use [1,2,..,n] notation.\n",
      "    \n",
      "        EXAMPLES::\n",
      "    \n",
      "            sage: ellipsis_range(1,Ellipsis,11,100)\n",
      "            [1, 2, 3, 4, 5, 6, 7, 8, 9, 10, 11, 100]\n",
      "            sage: ellipsis_range(0,2,Ellipsis,10,Ellipsis,20)\n",
      "            [0, 2, 4, 6, 8, 10, 12, 14, 16, 18, 20]\n",
      "            sage: ellipsis_range(0,2,Ellipsis,11,Ellipsis,20)\n",
      "            [0, 2, 4, 6, 8, 10, 11, 13, 15, 17, 19]\n",
      "            sage: ellipsis_range(0,2,Ellipsis,11,Ellipsis,20, step=3)\n",
      "            [0, 2, 5, 8, 11, 14, 17, 20]\n",
      "            sage: ellipsis_range(10,Ellipsis,0)\n",
      "            []\n",
      "    \n",
      "        TESTS:\n",
      "    \n",
      "        These were carefully chosen tests, only to be changed if the\n",
      "        semantics of ellipsis ranges change. In other words, if they don't\n",
      "        pass it's probably a bug in the implementation, not in the\n",
      "        doctest.\n",
      "    \n",
      "        Note 10 only appears once (though it is in both ranges).\n",
      "    \n",
      "        ::\n",
      "    \n",
      "            sage: ellipsis_range(0,Ellipsis,10,Ellipsis,20,step=2)\n",
      "            [0, 2, 4, 6, 8, 10, 12, 14, 16, 18, 20]\n",
      "    \n",
      "        Sometimes one or more ranges is empty.\n",
      "    \n",
      "        ::\n",
      "    \n",
      "            sage: ellipsis_range(100,Ellipsis,10,Ellipsis,20,step=2)\n",
      "            [10, 12, 14, 16, 18, 20]\n",
      "            sage: ellipsis_range(0,Ellipsis,10,Ellipsis,-20,step=2)\n",
      "            [0, 2, 4, 6, 8, 10]\n",
      "            sage: ellipsis_range(100,Ellipsis,10,Ellipsis,-20,step=2)\n",
      "            []\n",
      "    \n",
      "        We always start on the leftmost point of the range.\n",
      "    \n",
      "        ::\n",
      "    \n",
      "            sage: ellipsis_range(0,Ellipsis,10,Ellipsis,20,step=3)\n",
      "            [0, 3, 6, 9, 10, 13, 16, 19]\n",
      "            sage: ellipsis_range(100,Ellipsis,10,Ellipsis,20,step=3)\n",
      "            [10, 13, 16, 19]\n",
      "            sage: ellipsis_range(0,Ellipsis,10,Ellipsis,-20,step=3)\n",
      "            [0, 3, 6, 9]\n",
      "            sage: ellipsis_range(100,Ellipsis,10,Ellipsis,-20,step=3)\n",
      "            []\n",
      "            sage: ellipsis_range(0,1,Ellipsis,-10)\n",
      "            []\n",
      "            sage: ellipsis_range(0,1,Ellipsis,-10,step=1)\n",
      "            [0]\n",
      "            sage: ellipsis_range(100,0,1,Ellipsis,-10)\n",
      "            [100]\n",
      "    \n",
      "        Note the duplicate 5 in the output.\n",
      "    \n",
      "        ::\n",
      "    \n",
      "            sage: ellipsis_range(0,Ellipsis,5,5,Ellipsis,10)\n",
      "            [0, 1, 2, 3, 4, 5, 5, 6, 7, 8, 9, 10]\n",
      "    \n",
      "        Examples in which the step determines the parent of the elements::\n",
      "    \n",
      "            sage: [1..3, step=0.5]\n",
      "            [1.00000000000000, 1.50000000000000, 2.00000000000000, 2.50000000000000, 3.00000000000000]\n",
      "            sage: v = [1..5, step=1/1]; v\n",
      "            [1, 2, 3, 4, 5]\n",
      "            sage: parent(v[2])\n",
      "            Rational Field\n",
      "\n"
     ]
    }
   ],
   "source": [
    "help(ellipsis_range)"
   ]
  },
  {
   "cell_type": "code",
   "execution_count": 433,
   "id": "7494f597",
   "metadata": {},
   "outputs": [
    {
     "data": {
      "text/plain": [
       "1"
      ]
     },
     "execution_count": 433,
     "metadata": {},
     "output_type": "execute_result"
    }
   ],
   "source": [
    "(z + 1)*()"
   ]
  },
  {
   "cell_type": "code",
   "execution_count": 503,
   "id": "6af37dd9",
   "metadata": {},
   "outputs": [
    {
     "data": {
      "text/plain": [
       "[1 0 0 0 0 0]\n",
       "[0 1 0 0 0 0]\n",
       "[0 0 1 0 0 0]\n",
       "[0 0 0 1 0 0]"
      ]
     },
     "execution_count": 503,
     "metadata": {},
     "output_type": "execute_result"
    }
   ],
   "source": [
    "M.smith_form(transformation=False)"
   ]
  },
  {
   "cell_type": "code",
   "execution_count": null,
   "id": "5481c08d",
   "metadata": {},
   "outputs": [],
   "source": []
  }
 ],
 "metadata": {
  "kernelspec": {
   "display_name": "SageMath 9.0",
   "language": "sage",
   "name": "sagemath"
  },
  "language_info": {
   "codemirror_mode": {
    "name": "ipython",
    "version": 3
   },
   "file_extension": ".py",
   "mimetype": "text/x-python",
   "name": "python",
   "nbconvert_exporter": "python",
   "pygments_lexer": "ipython3",
   "version": "3.8.10"
  }
 },
 "nbformat": 4,
 "nbformat_minor": 5
}
