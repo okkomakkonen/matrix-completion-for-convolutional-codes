{
 "cells": [
  {
   "cell_type": "code",
   "execution_count": 1,
   "id": "d21bd652",
   "metadata": {},
   "outputs": [],
   "source": [
    "def next_integer(x):\n",
    "    \n",
    "    return floor(x + 1)"
   ]
  },
  {
   "cell_type": "code",
   "execution_count": null,
   "id": "d52c5d85",
   "metadata": {},
   "outputs": [],
   "source": [
    "def compute_L(n, k, delta):\n",
    "    \n",
    "    return floor(delta / k) + floor(delta / (n - k))"
   ]
  },
  {
   "cell_type": "code",
   "execution_count": 2,
   "id": "31f6ab76",
   "metadata": {},
   "outputs": [],
   "source": [
    "def required_field_size_alfarano(n, k, delta, verbose=False):\n",
    "    \n",
    "    q = next_prime_power(n)\n",
    "    \n",
    "    L = floor(delta / k) + floor(delta / (n - k))\n",
    "    m = ceil(delta / k)\n",
    "    \n",
    "    ss = []\n",
    "    \n",
    "    # Proposition 5.1\n",
    "    D = (L - m + 1) * binomial(delta, 2) + k^2 * binomial(m, 3) + binomial(k, 2) * binomial(m, 2)\n",
    "    s = next_integer(D)\n",
    "    ss.append(s)\n",
    "    if verbose:\n",
    "        print(\"Prop 5.1:\", s)\n",
    "    \n",
    "    # Theorem 5.3\n",
    "    D = delta^3 / 2 * (1 / (n - k) + 1 / (3*k)) + delta^2 / 2 * (3 / 2 - 1 / (n - k) - 1 / (2*k)) + delta * (k / 12 - 3 / 4)\n",
    "    s = next_integer(D)\n",
    "    ss.append(s)\n",
    "    if verbose:\n",
    "        print(\"Thm 5.3:\", s)\n",
    "    \n",
    "    # Proposition 5.5\n",
    "    if k < n - k and delta == k:\n",
    "        D = k^2 / 4\n",
    "        s = next_integer(D)\n",
    "        ss.append(s)\n",
    "        if verbose:\n",
    "            print(\"Prop 5.5:\", s)\n",
    "        \n",
    "    # Proposition 5.6\n",
    "    if n == 2*k and delta == k:\n",
    "        D = k^2 / 2\n",
    "        s = next_integer(D)\n",
    "        ss.append(s)\n",
    "        if verbose:\n",
    "            print(\"Prop 5.6:\", s)\n",
    "    \n",
    "    s = min(ss)\n",
    "    \n",
    "    return q^s"
   ]
  },
  {
   "cell_type": "code",
   "execution_count": 14,
   "id": "013f5807",
   "metadata": {},
   "outputs": [],
   "source": [
    "def required_field_size_our(n, k, delta, verbose=False):\n",
    "    \n",
    "    if not (delta == min(k, n - k) and  k != n - k):\n",
    "        return None\n",
    "    \n",
    "    d = 0\n",
    "    for i in range(k):\n",
    "        for j in range(k + 1, n + 1):\n",
    "                if i + j != 2*k:\n",
    "                    continue\n",
    "\n",
    "                d += binomial(n - 1, i) * binomial(n - 1, j - 1)\n",
    "                \n",
    "    return next_prime_power(d)"
   ]
  },
  {
   "cell_type": "code",
   "execution_count": 22,
   "id": "ef57bfcb",
   "metadata": {},
   "outputs": [
    {
     "name": "stdout",
     "output_type": "stream",
     "text": [
      "(2, 1, 1) : 3 : None\n",
      "(2, 1, 2) : 81 : None\n",
      "(3, 2, 2) : 256 : None\n",
      "(3, 1, 2) : 64 : None\n",
      "(3, 2, 1) : 4 : 3\n",
      "(4, 2, 2) : 125 : None\n",
      "(4, 1, 3) : 390625 : None\n",
      "(5, 2, 2) : 49 : 29\n",
      "(6, 2, 2) : 49 : 61\n",
      "(6, 2, 3) : 49 : None\n",
      "(7, 2, 2) : 64 : 113\n",
      "(7, 3, 3) : 512 : 397\n",
      "(8, 3, 3) : 729 : 1009\n"
     ]
    }
   ],
   "source": [
    "params = [\n",
    "    (2, 1, 1),\n",
    "    (2, 1, 2),\n",
    "    (3, 2, 2),\n",
    "    (3, 1, 2),\n",
    "    (3, 2, 1),\n",
    "    (4, 2, 2),\n",
    "    (4, 1, 3),\n",
    "    (5, 2, 2),\n",
    "    (6, 2, 2),\n",
    "    (6, 2, 3),\n",
    "    (7, 2, 2),\n",
    "    (7, 3, 3),\n",
    "    (8, 3, 3),\n",
    "]\n",
    "\n",
    "for n, k, delta in params:\n",
    "    \n",
    "    print(f\"({n}, {k}, {delta}) :\",\n",
    "         required_field_size_alfarano(n, k, delta),\n",
    "          \":\",\n",
    "          required_field_size_our(n, k, delta)\n",
    "         )"
   ]
  },
  {
   "cell_type": "code",
   "execution_count": null,
   "id": "f687ed4e",
   "metadata": {},
   "outputs": [],
   "source": []
  },
  {
   "cell_type": "code",
   "execution_count": null,
   "id": "6a40264b",
   "metadata": {},
   "outputs": [],
   "source": []
  }
 ],
 "metadata": {
  "kernelspec": {
   "display_name": "SageMath 9.0",
   "language": "sage",
   "name": "sagemath"
  },
  "language_info": {
   "codemirror_mode": {
    "name": "ipython",
    "version": 3
   },
   "file_extension": ".py",
   "mimetype": "text/x-python",
   "name": "python",
   "nbconvert_exporter": "python",
   "pygments_lexer": "ipython3",
   "version": "3.8.10"
  }
 },
 "nbformat": 4,
 "nbformat_minor": 5
}
